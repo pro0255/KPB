{
 "cells": [
  {
   "cell_type": "code",
   "execution_count": 90,
   "metadata": {},
   "outputs": [],
   "source": [
    "cipher = \"HMHLTBTQMUZOJWYEUHSVTCHEUOCGGBODRDTQKGVLOBROKRPFQOSDYQSDRZPQMSOWNSNRTJPQZWZQGZHLYRZPXSRDXRTQMKSDZWDDIVTHBOMOKOYGYVPKGRLPKGDDMSQRXOYBECFQMGEHXGHKUATJNHHLYVERLCWOUKTQNSCIUCEVZSAVGBODOAQRXGFFISDVUBMRZVDNOGLQJGYRCPZDXRORCVLWKJPUECFZGBEVNSDDORTIECFZGBEWUQSR\""
   ]
  },
  {
   "cell_type": "code",
   "execution_count": 91,
   "metadata": {},
   "outputs": [
    {
     "data": {
      "text/plain": [
       "'HMHLTBTQMUZOJWYEUHSVTCHEUOCGGBODRDTQKGVLOBROKRPFQOSDYQSDRZPQMSOWNSNRTJPQZWZQGZHLYRZPXSRDXRTQMKSDZWDDIVTHBOMOKOYGYVPKGRLPKGDDMSQRXOYBECFQMGEHXGHKUATJNHHLYVERLCWOUKTQNSCIUCEVZSAVGBODOAQRXGFFISDVUBMRZVDNOGLQJGYRCPZDXRORCVLWKJPUECFZGBEVNSDDORTIECFZGBEWUQSR'"
      ]
     },
     "execution_count": 91,
     "metadata": {},
     "output_type": "execute_result"
    }
   ],
   "source": [
    "cipher"
   ]
  },
  {
   "cell_type": "code",
   "execution_count": 92,
   "metadata": {},
   "outputs": [],
   "source": [
    "ot_alphabet = list(range(66, 91)) + list(range(97, 123))"
   ]
  },
  {
   "cell_type": "code",
   "execution_count": 93,
   "metadata": {},
   "outputs": [],
   "source": [
    "C_1 = ['3c', '05', '02', '1d', '07', '0c', '0c', '1a', '18', '0c', '1d', '17']\n",
    "C_2 = ['03', '19', '11', '10', '01', '00', '0f', '19', '03', '1a', '11', '0a']"
   ]
  },
  {
   "cell_type": "code",
   "execution_count": 94,
   "metadata": {},
   "outputs": [
    {
     "data": {
      "text/plain": [
       "['3c', '05', '02', '1d', '07', '0c', '0c', '1a', '18', '0c', '1d', '17']"
      ]
     },
     "execution_count": 94,
     "metadata": {},
     "output_type": "execute_result"
    }
   ],
   "source": [
    "C_1"
   ]
  },
  {
   "cell_type": "code",
   "execution_count": 95,
   "metadata": {},
   "outputs": [
    {
     "data": {
      "text/plain": [
       "['03', '19', '11', '10', '01', '00', '0f', '19', '03', '1a', '11', '0a']"
      ]
     },
     "execution_count": 95,
     "metadata": {},
     "output_type": "execute_result"
    }
   ],
   "source": [
    "C_2"
   ]
  },
  {
   "cell_type": "markdown",
   "metadata": {},
   "source": [
    "Nalezeni vysledku po XORU sifrovanych zprav."
   ]
  },
  {
   "cell_type": "code",
   "execution_count": 96,
   "metadata": {},
   "outputs": [],
   "source": [
    "res_xor = []\n",
    "for i in range(len(C_1)):\n",
    "    current_c1 = C_1[i]\n",
    "    current_c2 = C_2[i]\n",
    "\n",
    "    c1 = int(current_c1, 16)\n",
    "    c2 = int(current_c2, 16)\n",
    "\n",
    "    xor = c1 ^ c2 \n",
    "    res_xor.append(xor)"
   ]
  },
  {
   "cell_type": "code",
   "execution_count": 126,
   "metadata": {},
   "outputs": [
    {
     "data": {
      "text/plain": [
       "[63, 28, 19, 13, 6, 12, 3, 3, 27, 22, 12, 29]"
      ]
     },
     "execution_count": 126,
     "metadata": {},
     "output_type": "execute_result"
    }
   ],
   "source": [
    "res_xor"
   ]
  },
  {
   "cell_type": "code",
   "execution_count": 127,
   "metadata": {},
   "outputs": [],
   "source": [
    "PATH_TO_DIC = \"C://Users//Vojta//Desktop//iv//KPB//points//2//dic.txt\""
   ]
  },
  {
   "cell_type": "code",
   "execution_count": 128,
   "metadata": {},
   "outputs": [],
   "source": [
    "voc = {}\n",
    "with open(PATH_TO_DIC, 'r') as f:\n",
    "    for index, word in enumerate(f.readlines()):\n",
    "        word = word.replace('\\n', '') \n",
    "        voc[word] = len(word)"
   ]
  },
  {
   "cell_type": "markdown",
   "metadata": {},
   "source": [
    "Otevˇren´ymi texty je vˇzdy SMYSLUPLNE cel´e an- ´\n",
    "glick´e slovo o 12 znac´ıch ze slovn´ıku uveden´eho v souboru dic.txt."
   ]
  },
  {
   "cell_type": "code",
   "execution_count": 129,
   "metadata": {},
   "outputs": [],
   "source": [
    "voc = dict(list(filter(lambda x: x[1] == 12, voc.items())))"
   ]
  },
  {
   "cell_type": "code",
   "execution_count": 130,
   "metadata": {},
   "outputs": [
    {
     "data": {
      "text/plain": [
       "1364"
      ]
     },
     "execution_count": 130,
     "metadata": {},
     "output_type": "execute_result"
    }
   ],
   "source": [
    "len(voc)"
   ]
  },
  {
   "cell_type": "code",
   "execution_count": 140,
   "metadata": {},
   "outputs": [],
   "source": [
    "final_result = []\n",
    "\n",
    "for msg1 in voc.keys():\n",
    "    add = True\n",
    "    msg2 = []\n",
    "\n",
    "    for i, char1 in enumerate(msg1):\n",
    "        char1 = ord(char1)\n",
    "        char_2 = char1 ^ res_xor[i]\n",
    "        \n",
    "        if char_2 not in ot_alphabet:\n",
    "            add = False\n",
    "            break \n",
    "\n",
    "        msg2.append(char_2)\n",
    "    \n",
    "    if add:\n",
    "        msg2_word = \"\".join([chr(n) for n in msg2])\n",
    "\n",
    "        if msg2_word in voc:\n",
    "            key_1 = \"\".join([chr(int(C_1[i], 16) ^ ord(m_1_c)) for i, m_1_c in enumerate(msg1)])\n",
    "            key_2 = \"\".join([chr(int(C_2[i], 16) ^ ord(m_2_c)) for i, m_2_c in enumerate(msg2_word)])\n",
    "            r = (msg1, msg2_word, key_1, key_2)\n",
    "            final_result.append(r)\n"
   ]
  },
  {
   "cell_type": "code",
   "execution_count": 141,
   "metadata": {},
   "outputs": [
    {
     "data": {
      "text/plain": [
       "[('Lichtenstein', 'superimposes', 'plausibility', 'plausibility'),\n",
       " ('superimposes', 'Lichtenstein', 'Oprxueajw\\x7fxd', 'Oprxueajw\\x7fxd')]"
      ]
     },
     "execution_count": 141,
     "metadata": {},
     "output_type": "execute_result"
    }
   ],
   "source": [
    "final_result"
   ]
  }
 ],
 "metadata": {
  "interpreter": {
   "hash": "106aa8221853b8d5d0b3564e2a1f9759ca54733c71712d3b42aace9d09716949"
  },
  "kernelspec": {
   "display_name": "Python 3.8.1 ('venv': venv)",
   "language": "python",
   "name": "python3"
  },
  "language_info": {
   "codemirror_mode": {
    "name": "ipython",
    "version": 3
   },
   "file_extension": ".py",
   "mimetype": "text/x-python",
   "name": "python",
   "nbconvert_exporter": "python",
   "pygments_lexer": "ipython3",
   "version": "3.8.1"
  },
  "orig_nbformat": 4
 },
 "nbformat": 4,
 "nbformat_minor": 2
}
