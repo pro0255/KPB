{
 "cells": [
  {
   "cell_type": "code",
   "execution_count": 23,
   "metadata": {},
   "outputs": [],
   "source": [
    "import os\n",
    "import sys\n",
    "\n",
    "def adding_module_path():\n",
    "    module_path = os.path.abspath(os.path.sep.join([\"..\"]*2))\n",
    "\n",
    "    if module_path not in sys.path:\n",
    "        sys.path.append(module_path)\n",
    "\n",
    "adding_module_path()"
   ]
  },
  {
   "cell_type": "code",
   "execution_count": 24,
   "metadata": {},
   "outputs": [],
   "source": [
    "from points.methods import get_n_gram_table, translate, translate_with, blank_text, chi, chi_calc, find_min, find_not_decrypted\n",
    "import pandas as pd\n",
    "from collections import Counter"
   ]
  },
  {
   "cell_type": "code",
   "execution_count": 25,
   "metadata": {},
   "outputs": [],
   "source": [
    "cipher = \"OJRGEQKTRNDEVPDOAGRKTLPKUEJNETPVJNEUOJNEJRUVJAKAGQVWRGENPOQLQBOEQKTHVLVJEQEWKKCNSRLPOJRQRGEVDFKJCIDKQQKFQAJVPDECRPEEQVJCOPOQEQRGVRCKRRECRGETPEJNGDVJCQNVLEPEFOJCECGOFKTJVRSPEQNEJEQLVOJRECOJBYKRKVJCOJRGEDKNVDQWGKCPVJBOJNVTEQKTVPDEQGEQVWPEQKJVJNEQWORGRGEAEOQGVQVJCBVISBOVNRKPQKTVNKSJRPYGECJEUEPUOQORECVRTOPQRUVJAKAGQOFLDYNKLOECRGEWKPBQOJIKRGQBERNGEQVJCKODLVOJROJAQIYRGEROFERGEVPROQRFKUECRKVPDEQGEWVQTSDDYOJRGERGPVDDKTHVLVJKJRGERPVOJTPKFLVPOQGEPELEVRECDYNGENBECKSRRGEWOJCKWGEWPKRERKGOQTPOEJCLVSDAVSASOJRKQEEOTORWVQDOBEHVLVJYER!NGODCOQGOQJRORRGEOFLVNRWVQFKPEQSIRDEFKPEISPOECOJGOQRENGJOMSETKPOJQRVJNEGEQKFEROFEQCOUOCECRGENVJUVQSQOJACOVAKJVDDOJEQPVRGEPRGVJSQOJAGKPOZKJRVDLEPQLENROUELDVJEQVQWVQRGEJKPFOJWEQREPJLVOJROJAVJCGEWKSDCQRPEVBGOQLVOJROJAQWORGCOVAKJVDPVOJVQGEGVCQEEJOJHVLVJEQELPOJRQ\""
   ]
  },
  {
   "cell_type": "code",
   "execution_count": 26,
   "metadata": {},
   "outputs": [
    {
     "name": "stdout",
     "output_type": "stream",
     "text": [
      "30 571\n"
     ]
    },
    {
     "data": {
      "text/html": [
       "<div>\n",
       "<style scoped>\n",
       "    .dataframe tbody tr th:only-of-type {\n",
       "        vertical-align: middle;\n",
       "    }\n",
       "\n",
       "    .dataframe tbody tr th {\n",
       "        vertical-align: top;\n",
       "    }\n",
       "\n",
       "    .dataframe thead th {\n",
       "        text-align: right;\n",
       "    }\n",
       "</style>\n",
       "<table border=\"1\" class=\"dataframe\">\n",
       "  <thead>\n",
       "    <tr style=\"text-align: right;\">\n",
       "      <th></th>\n",
       "      <th>Current</th>\n",
       "      <th>Ref</th>\n",
       "    </tr>\n",
       "  </thead>\n",
       "  <tbody>\n",
       "    <tr>\n",
       "      <th>0</th>\n",
       "      <td>(RGE, 2.057)</td>\n",
       "      <td>(THE, 1.81)</td>\n",
       "    </tr>\n",
       "    <tr>\n",
       "      <th>1</th>\n",
       "      <td>(OJR, 1.285)</td>\n",
       "      <td>(AND, 0.73)</td>\n",
       "    </tr>\n",
       "    <tr>\n",
       "      <th>2</th>\n",
       "      <td>(VJC, 0.771)</td>\n",
       "      <td>(ING, 0.72)</td>\n",
       "    </tr>\n",
       "    <tr>\n",
       "      <th>3</th>\n",
       "      <td>(VOJ, 0.771)</td>\n",
       "      <td>(ENT, 0.42)</td>\n",
       "    </tr>\n",
       "    <tr>\n",
       "      <th>4</th>\n",
       "      <td>(EQK, 0.643)</td>\n",
       "      <td>(ION, 0.42)</td>\n",
       "    </tr>\n",
       "    <tr>\n",
       "      <th>...</th>\n",
       "      <td>...</td>\n",
       "      <td>...</td>\n",
       "    </tr>\n",
       "    <tr>\n",
       "      <th>566</th>\n",
       "      <td>(JOJ, 0.129)</td>\n",
       "      <td>(-, 0)</td>\n",
       "    </tr>\n",
       "    <tr>\n",
       "      <th>567</th>\n",
       "      <td>(OJH, 0.129)</td>\n",
       "      <td>(-, 0)</td>\n",
       "    </tr>\n",
       "    <tr>\n",
       "      <th>568</th>\n",
       "      <td>(JHV, 0.129)</td>\n",
       "      <td>(-, 0)</td>\n",
       "    </tr>\n",
       "    <tr>\n",
       "      <th>569</th>\n",
       "      <td>(QEL, 0.129)</td>\n",
       "      <td>(-, 0)</td>\n",
       "    </tr>\n",
       "    <tr>\n",
       "      <th>570</th>\n",
       "      <td>(ELP, 0.129)</td>\n",
       "      <td>(-, 0)</td>\n",
       "    </tr>\n",
       "  </tbody>\n",
       "</table>\n",
       "<p>571 rows × 2 columns</p>\n",
       "</div>"
      ],
      "text/plain": [
       "          Current          Ref\n",
       "0    (RGE, 2.057)  (THE, 1.81)\n",
       "1    (OJR, 1.285)  (AND, 0.73)\n",
       "2    (VJC, 0.771)  (ING, 0.72)\n",
       "3    (VOJ, 0.771)  (ENT, 0.42)\n",
       "4    (EQK, 0.643)  (ION, 0.42)\n",
       "..            ...          ...\n",
       "566  (JOJ, 0.129)       (-, 0)\n",
       "567  (OJH, 0.129)       (-, 0)\n",
       "568  (JHV, 0.129)       (-, 0)\n",
       "569  (QEL, 0.129)       (-, 0)\n",
       "570  (ELP, 0.129)       (-, 0)\n",
       "\n",
       "[571 rows x 2 columns]"
      ]
     },
     "execution_count": 26,
     "metadata": {},
     "output_type": "execute_result"
    }
   ],
   "source": [
    "df = get_n_gram_table(cipher, 3)\n",
    "df"
   ]
  },
  {
   "cell_type": "code",
   "execution_count": 27,
   "metadata": {},
   "outputs": [
    {
     "name": "stdout",
     "output_type": "stream",
     "text": [
      "30 250\n"
     ]
    },
    {
     "data": {
      "text/html": [
       "<div>\n",
       "<style scoped>\n",
       "    .dataframe tbody tr th:only-of-type {\n",
       "        vertical-align: middle;\n",
       "    }\n",
       "\n",
       "    .dataframe tbody tr th {\n",
       "        vertical-align: top;\n",
       "    }\n",
       "\n",
       "    .dataframe thead th {\n",
       "        text-align: right;\n",
       "    }\n",
       "</style>\n",
       "<table border=\"1\" class=\"dataframe\">\n",
       "  <thead>\n",
       "    <tr style=\"text-align: right;\">\n",
       "      <th></th>\n",
       "      <th>Current</th>\n",
       "      <th>Ref</th>\n",
       "    </tr>\n",
       "  </thead>\n",
       "  <tbody>\n",
       "    <tr>\n",
       "      <th>0</th>\n",
       "      <td>(OJ, 3.594)</td>\n",
       "      <td>(TH, 2.71)</td>\n",
       "    </tr>\n",
       "    <tr>\n",
       "      <th>1</th>\n",
       "      <td>(GE, 3.338)</td>\n",
       "      <td>(HE, 2.33)</td>\n",
       "    </tr>\n",
       "    <tr>\n",
       "      <th>2</th>\n",
       "      <td>(RG, 2.824)</td>\n",
       "      <td>(IN, 2.03)</td>\n",
       "    </tr>\n",
       "    <tr>\n",
       "      <th>3</th>\n",
       "      <td>(EQ, 2.696)</td>\n",
       "      <td>(ER, 1.78)</td>\n",
       "    </tr>\n",
       "    <tr>\n",
       "      <th>4</th>\n",
       "      <td>(VJ, 2.439)</td>\n",
       "      <td>(AN, 1.61)</td>\n",
       "    </tr>\n",
       "    <tr>\n",
       "      <th>5</th>\n",
       "      <td>(JR, 1.926)</td>\n",
       "      <td>(RE, 1.41)</td>\n",
       "    </tr>\n",
       "    <tr>\n",
       "      <th>6</th>\n",
       "      <td>(EC, 1.54)</td>\n",
       "      <td>(ES, 1.32)</td>\n",
       "    </tr>\n",
       "    <tr>\n",
       "      <th>7</th>\n",
       "      <td>(OQ, 1.412)</td>\n",
       "      <td>(ON, 1.32)</td>\n",
       "    </tr>\n",
       "    <tr>\n",
       "      <th>8</th>\n",
       "      <td>(LV, 1.412)</td>\n",
       "      <td>(ST, 1.25)</td>\n",
       "    </tr>\n",
       "    <tr>\n",
       "      <th>9</th>\n",
       "      <td>(JC, 1.284)</td>\n",
       "      <td>(NT, 1.17)</td>\n",
       "    </tr>\n",
       "    <tr>\n",
       "      <th>10</th>\n",
       "      <td>(PO, 1.155)</td>\n",
       "      <td>(EN, 1.13)</td>\n",
       "    </tr>\n",
       "    <tr>\n",
       "      <th>11</th>\n",
       "      <td>(QR, 1.155)</td>\n",
       "      <td>(AT, 1.12)</td>\n",
       "    </tr>\n",
       "    <tr>\n",
       "      <th>12</th>\n",
       "      <td>(PE, 1.155)</td>\n",
       "      <td>(ED, 1.08)</td>\n",
       "    </tr>\n",
       "    <tr>\n",
       "      <th>13</th>\n",
       "      <td>(CO, 1.027)</td>\n",
       "      <td>(ND, 1.07)</td>\n",
       "    </tr>\n",
       "    <tr>\n",
       "      <th>14</th>\n",
       "      <td>(VQ, 1.027)</td>\n",
       "      <td>(TO, 1.07)</td>\n",
       "    </tr>\n",
       "    <tr>\n",
       "      <th>15</th>\n",
       "      <td>(ER, 1.027)</td>\n",
       "      <td>(OR, 1.06)</td>\n",
       "    </tr>\n",
       "    <tr>\n",
       "      <th>16</th>\n",
       "      <td>(RO, 1.027)</td>\n",
       "      <td>(EA, 1.0)</td>\n",
       "    </tr>\n",
       "    <tr>\n",
       "      <th>17</th>\n",
       "      <td>(QK, 0.899)</td>\n",
       "      <td>(TI, 0.99)</td>\n",
       "    </tr>\n",
       "    <tr>\n",
       "      <th>18</th>\n",
       "      <td>(KT, 0.899)</td>\n",
       "      <td>(AR, 0.98)</td>\n",
       "    </tr>\n",
       "    <tr>\n",
       "      <th>19</th>\n",
       "      <td>(EJ, 0.899)</td>\n",
       "      <td>(TE, 0.98)</td>\n",
       "    </tr>\n",
       "  </tbody>\n",
       "</table>\n",
       "</div>"
      ],
      "text/plain": [
       "        Current         Ref\n",
       "0   (OJ, 3.594)  (TH, 2.71)\n",
       "1   (GE, 3.338)  (HE, 2.33)\n",
       "2   (RG, 2.824)  (IN, 2.03)\n",
       "3   (EQ, 2.696)  (ER, 1.78)\n",
       "4   (VJ, 2.439)  (AN, 1.61)\n",
       "5   (JR, 1.926)  (RE, 1.41)\n",
       "6    (EC, 1.54)  (ES, 1.32)\n",
       "7   (OQ, 1.412)  (ON, 1.32)\n",
       "8   (LV, 1.412)  (ST, 1.25)\n",
       "9   (JC, 1.284)  (NT, 1.17)\n",
       "10  (PO, 1.155)  (EN, 1.13)\n",
       "11  (QR, 1.155)  (AT, 1.12)\n",
       "12  (PE, 1.155)  (ED, 1.08)\n",
       "13  (CO, 1.027)  (ND, 1.07)\n",
       "14  (VQ, 1.027)  (TO, 1.07)\n",
       "15  (ER, 1.027)  (OR, 1.06)\n",
       "16  (RO, 1.027)   (EA, 1.0)\n",
       "17  (QK, 0.899)  (TI, 0.99)\n",
       "18  (KT, 0.899)  (AR, 0.98)\n",
       "19  (EJ, 0.899)  (TE, 0.98)"
      ]
     },
     "execution_count": 27,
     "metadata": {},
     "output_type": "execute_result"
    }
   ],
   "source": [
    "df = get_n_gram_table(cipher, 2)\n",
    "df.iloc[0:20, :]"
   ]
  },
  {
   "cell_type": "code",
   "execution_count": 28,
   "metadata": {},
   "outputs": [
    {
     "name": "stdout",
     "output_type": "stream",
     "text": [
      "26 26\n"
     ]
    },
    {
     "data": {
      "text/html": [
       "<div>\n",
       "<style scoped>\n",
       "    .dataframe tbody tr th:only-of-type {\n",
       "        vertical-align: middle;\n",
       "    }\n",
       "\n",
       "    .dataframe tbody tr th {\n",
       "        vertical-align: top;\n",
       "    }\n",
       "\n",
       "    .dataframe thead th {\n",
       "        text-align: right;\n",
       "    }\n",
       "</style>\n",
       "<table border=\"1\" class=\"dataframe\">\n",
       "  <thead>\n",
       "    <tr style=\"text-align: right;\">\n",
       "      <th></th>\n",
       "      <th>Current</th>\n",
       "      <th>Ref</th>\n",
       "    </tr>\n",
       "  </thead>\n",
       "  <tbody>\n",
       "    <tr>\n",
       "      <th>0</th>\n",
       "      <td>(E, 11.795)</td>\n",
       "      <td>(E, 12.1)</td>\n",
       "    </tr>\n",
       "    <tr>\n",
       "      <th>1</th>\n",
       "      <td>(O, 8.718)</td>\n",
       "      <td>(T, 8.94)</td>\n",
       "    </tr>\n",
       "    <tr>\n",
       "      <th>2</th>\n",
       "      <td>(V, 8.718)</td>\n",
       "      <td>(A, 8.55)</td>\n",
       "    </tr>\n",
       "    <tr>\n",
       "      <th>3</th>\n",
       "      <td>(J, 8.59)</td>\n",
       "      <td>(O, 7.47)</td>\n",
       "    </tr>\n",
       "    <tr>\n",
       "      <th>4</th>\n",
       "      <td>(R, 8.59)</td>\n",
       "      <td>(I, 7.33)</td>\n",
       "    </tr>\n",
       "    <tr>\n",
       "      <th>5</th>\n",
       "      <td>(Q, 7.949)</td>\n",
       "      <td>(N, 7.17)</td>\n",
       "    </tr>\n",
       "    <tr>\n",
       "      <th>6</th>\n",
       "      <td>(G, 6.026)</td>\n",
       "      <td>(S, 6.73)</td>\n",
       "    </tr>\n",
       "    <tr>\n",
       "      <th>7</th>\n",
       "      <td>(K, 5.897)</td>\n",
       "      <td>(R, 6.33)</td>\n",
       "    </tr>\n",
       "    <tr>\n",
       "      <th>8</th>\n",
       "      <td>(P, 5.256)</td>\n",
       "      <td>(H, 4.96)</td>\n",
       "    </tr>\n",
       "    <tr>\n",
       "      <th>9</th>\n",
       "      <td>(C, 4.103)</td>\n",
       "      <td>(L, 4.21)</td>\n",
       "    </tr>\n",
       "    <tr>\n",
       "      <th>10</th>\n",
       "      <td>(D, 3.462)</td>\n",
       "      <td>(D, 3.87)</td>\n",
       "    </tr>\n",
       "    <tr>\n",
       "      <th>11</th>\n",
       "      <td>(N, 3.077)</td>\n",
       "      <td>(C, 3.16)</td>\n",
       "    </tr>\n",
       "    <tr>\n",
       "      <th>12</th>\n",
       "      <td>(L, 2.821)</td>\n",
       "      <td>(U, 2.68)</td>\n",
       "    </tr>\n",
       "    <tr>\n",
       "      <th>13</th>\n",
       "      <td>(T, 2.051)</td>\n",
       "      <td>(M, 2.53)</td>\n",
       "    </tr>\n",
       "    <tr>\n",
       "      <th>14</th>\n",
       "      <td>(A, 2.051)</td>\n",
       "      <td>(F, 2.18)</td>\n",
       "    </tr>\n",
       "    <tr>\n",
       "      <th>15</th>\n",
       "      <td>(W, 2.051)</td>\n",
       "      <td>(G, 2.09)</td>\n",
       "    </tr>\n",
       "    <tr>\n",
       "      <th>16</th>\n",
       "      <td>(S, 1.923)</td>\n",
       "      <td>(P, 2.07)</td>\n",
       "    </tr>\n",
       "    <tr>\n",
       "      <th>17</th>\n",
       "      <td>(F, 1.795)</td>\n",
       "      <td>(W, 1.83)</td>\n",
       "    </tr>\n",
       "    <tr>\n",
       "      <th>18</th>\n",
       "      <td>(U, 1.282)</td>\n",
       "      <td>(Y, 1.72)</td>\n",
       "    </tr>\n",
       "    <tr>\n",
       "      <th>19</th>\n",
       "      <td>(B, 1.282)</td>\n",
       "      <td>(B, 1.6)</td>\n",
       "    </tr>\n",
       "    <tr>\n",
       "      <th>20</th>\n",
       "      <td>(Y, 0.897)</td>\n",
       "      <td>(V, 1.06)</td>\n",
       "    </tr>\n",
       "    <tr>\n",
       "      <th>21</th>\n",
       "      <td>(I, 0.769)</td>\n",
       "      <td>(K, 0.81)</td>\n",
       "    </tr>\n",
       "    <tr>\n",
       "      <th>22</th>\n",
       "      <td>(H, 0.513)</td>\n",
       "      <td>(J, 0.22)</td>\n",
       "    </tr>\n",
       "    <tr>\n",
       "      <th>23</th>\n",
       "      <td>(!, 0.128)</td>\n",
       "      <td>(X, 0.19)</td>\n",
       "    </tr>\n",
       "    <tr>\n",
       "      <th>24</th>\n",
       "      <td>(M, 0.128)</td>\n",
       "      <td>(Z, 0.11)</td>\n",
       "    </tr>\n",
       "    <tr>\n",
       "      <th>25</th>\n",
       "      <td>(Z, 0.128)</td>\n",
       "      <td>(Q, 0.1)</td>\n",
       "    </tr>\n",
       "  </tbody>\n",
       "</table>\n",
       "</div>"
      ],
      "text/plain": [
       "        Current        Ref\n",
       "0   (E, 11.795)  (E, 12.1)\n",
       "1    (O, 8.718)  (T, 8.94)\n",
       "2    (V, 8.718)  (A, 8.55)\n",
       "3     (J, 8.59)  (O, 7.47)\n",
       "4     (R, 8.59)  (I, 7.33)\n",
       "5    (Q, 7.949)  (N, 7.17)\n",
       "6    (G, 6.026)  (S, 6.73)\n",
       "7    (K, 5.897)  (R, 6.33)\n",
       "8    (P, 5.256)  (H, 4.96)\n",
       "9    (C, 4.103)  (L, 4.21)\n",
       "10   (D, 3.462)  (D, 3.87)\n",
       "11   (N, 3.077)  (C, 3.16)\n",
       "12   (L, 2.821)  (U, 2.68)\n",
       "13   (T, 2.051)  (M, 2.53)\n",
       "14   (A, 2.051)  (F, 2.18)\n",
       "15   (W, 2.051)  (G, 2.09)\n",
       "16   (S, 1.923)  (P, 2.07)\n",
       "17   (F, 1.795)  (W, 1.83)\n",
       "18   (U, 1.282)  (Y, 1.72)\n",
       "19   (B, 1.282)   (B, 1.6)\n",
       "20   (Y, 0.897)  (V, 1.06)\n",
       "21   (I, 0.769)  (K, 0.81)\n",
       "22   (H, 0.513)  (J, 0.22)\n",
       "23   (!, 0.128)  (X, 0.19)\n",
       "24   (M, 0.128)  (Z, 0.11)\n",
       "25   (Z, 0.128)   (Q, 0.1)"
      ]
     },
     "execution_count": 28,
     "metadata": {},
     "output_type": "execute_result"
    }
   ],
   "source": [
    "df = get_n_gram_table(cipher, 1)\n",
    "df"
   ]
  },
  {
   "cell_type": "code",
   "execution_count": 29,
   "metadata": {},
   "outputs": [],
   "source": [
    "key = {\n",
    "    #prvni substituce\n",
    "    \"R\": \"T\",\n",
    "    \"G\": \"H\",\n",
    "    \"E\": \"E\",\n",
    "    \"O\": \"I\",\n",
    "    \"J\": \"N\",\n",
    "    \"V\": \"A\",\n",
    "    #tree?\n",
    "    \"P\": \"R\",\n",
    "    #test chi\n",
    "    \"Q\": 'S',\n",
    "    \"N\": \"C\",\n",
    "    \"G\": \"H\",\n",
    "    \"O\": \"I\",\n",
    "    \"M\": \"Q\",\n",
    "    \"S\": \"U\",\n",
    "    #TE_HNI__E, R E N G J O M S E T ... T E C H N I Q U E\n",
    "    #C_EAR  NDEVP,\n",
    "    \"D\": \"L\",\n",
    "    #LI_HT__ LIGHT?\n",
    "    \"A\": \"G\",\n",
    "    #_RINTS .. PRINTS? LPOJRQ\n",
    "    \"L\": \"P\",\n",
    "    #_APANESEPRINTS .. JAPANESE?\n",
    "    #HVLVJEQELPOJRQ\n",
    "    \"H\": \"J\",\n",
    "    #WORGCOVAKJVD\n",
    "    #_ITH_IAG_NAL \n",
    "    \"W\": \"W\",\n",
    "    \"C\": \"D\",\n",
    "    \"K\": \"O\",\n",
    "    #OJRGEQKTR\n",
    "    #INTHESO_T,\n",
    "    \"T\": \"F\",\n",
    "    #OJRGEQKTRNDEVPDOAGRKTLPKUEJNE\n",
    "    #INTHESOFTCLEARLIGHTOFPRO_ENCE\n",
    "    \"U\": \"V\",\n",
    "    #GEWVQTSDDY\n",
    "    #HEWASFULL_,\n",
    "    \"Y\": \"Y\",\n",
    "    #RPVOJTPKFLVPOQ\n",
    "    #TRAINFRO_PARIS\n",
    "    \"F\": \"M\",\n",
    "    #RRGEOFLVNRWVQFKPEQSIRDEFKPEISPOEC\n",
    "    #TTHEIMPACTWASMORESU_TLEMORE_URIED\n",
    "    \"I\": \"L\",\n",
    "    #GKPOZKJRVD\n",
    "    #HORI_ONTAL\n",
    "    \"Z\": \"Z\",\n",
    "    #WKSDCQRPEVBGOQLVOJROJAQWORGCOVAKJVDPVOJVQGEGVCQEEJOJHVLVJEQELPOJRQ\n",
    "    #WOULDSTREA_HISPAINTINGSWITHDIAGONALRAINASHEHADSEENINJAPANESEPRINTS\n",
    "    \"B\": \"K\",\n",
    "    #IFITWASLIKEJAPANYET_CHILDISHISNTI\n",
    "    #OTORWVQDOBEHVLVJYER!NGODCOQGOQJRO\n",
    "}"
   ]
  },
  {
   "cell_type": "code",
   "execution_count": 41,
   "metadata": {},
   "outputs": [
    {
     "data": {
      "text/plain": [
       "[('V', 'A'),\n",
       " ('N', 'C'),\n",
       " ('C', 'D'),\n",
       " ('E', 'E'),\n",
       " ('T', 'F'),\n",
       " ('A', 'G'),\n",
       " ('G', 'H'),\n",
       " ('O', 'I'),\n",
       " ('H', 'J'),\n",
       " ('B', 'K'),\n",
       " ('D', 'L'),\n",
       " ('I', 'L'),\n",
       " ('F', 'M'),\n",
       " ('J', 'N'),\n",
       " ('K', 'O'),\n",
       " ('L', 'P'),\n",
       " ('M', 'Q'),\n",
       " ('P', 'R'),\n",
       " ('Q', 'S'),\n",
       " ('R', 'T'),\n",
       " ('S', 'U'),\n",
       " ('U', 'V'),\n",
       " ('W', 'W'),\n",
       " ('Y', 'Y'),\n",
       " ('Z', 'Z')]"
      ]
     },
     "execution_count": 41,
     "metadata": {},
     "output_type": "execute_result"
    }
   ],
   "source": [
    "sorted_items = sorted(key.items(), key=lambda x: x[1])"
   ]
  },
  {
   "cell_type": "code",
   "execution_count": 42,
   "metadata": {},
   "outputs": [],
   "source": [
    "key, alphabet = zip(*sorted_items)"
   ]
  },
  {
   "cell_type": "code",
   "execution_count": 44,
   "metadata": {},
   "outputs": [
    {
     "data": {
      "text/plain": [
       "'VNCETAGOHBDIFJKLMPQRSUWYZ'"
      ]
     },
     "execution_count": 44,
     "metadata": {},
     "output_type": "execute_result"
    }
   ],
   "source": [
    "\"\".join(key)"
   ]
  },
  {
   "cell_type": "code",
   "execution_count": 38,
   "metadata": {},
   "outputs": [
    {
     "name": "stdout",
     "output_type": "stream",
     "text": [
      "from ['R', 'G', 'E', 'O', 'J', 'V', 'P', 'Q', 'N', 'M', 'S', 'D', 'A', 'L', 'H', 'W', 'C', 'K', 'T', 'U', 'Y', 'F', 'I', 'Z', 'B']\n",
      "to ['T', 'H', 'E', 'I', 'N', 'A', 'R', 'S', 'C', 'Q', 'U', 'L', 'G', 'P', 'J', 'W', 'D', 'O', 'F', 'V', 'Y', 'M', 'L', 'Z', 'K']\n"
     ]
    }
   ],
   "source": [
    "print(f\"from {list(key.keys())}\")\n",
    "print(f\"to {list(key.values())}\")"
   ]
  },
  {
   "cell_type": "code",
   "execution_count": 30,
   "metadata": {},
   "outputs": [],
   "source": [
    "first = blank_text(cipher, key)"
   ]
  },
  {
   "cell_type": "code",
   "execution_count": 31,
   "metadata": {},
   "outputs": [
    {
     "data": {
      "text/plain": [
       "'INTHESOFTCLEARLIGHTOFPROVENCEFRANCEVINCENTVANGOGHSAWTHECRISPSKIESOFJAPANESEWOODCUTPRINTSTHEALMONDLLOSSOMSGNARLEDTREESANDIRISESTHATDOTTEDTHEFRENCHLANDSCAPEREMINDEDHIMOFNATURESCENESPAINTEDINKYOTOANDINTHELOCALSWHODRANKINCAFESOFARLESHESAWRESONANCESWITHTHEGEISHASANDKALUKIACTORSOFACOUNTRYHEDNEVERVISITEDATFIRSTVANGOGHSIMPLYCOPIEDTHEWORKSINLOTHSKETCHESANDOILPAINTINGSLYTHETIMETHEARTISTMOVEDTOARLESHEWASFULLYINTHETHRALLOFJAPANONTHETRAINFROMPARISHEREPEATEDLYCHECKEDOUTTHEWINDOWHEWROTETOHISFRIENDPAULGAUGUINTOSEEIFITWASLIKEJAPANYET_CHILDISHISNTITTHEIMPACTWASMORESULTLEMORELURIEDINHISTECHNIQUEFORINSTANCEHESOMETIMESDIVIDEDTHECANVASUSINGDIAGONALLINESRATHERTHANUSINGHORIZONTALPERSPECTIVEPLANESASWASTHENORMINWESTERNPAINTINGANDHEWOULDSTREAKHISPAINTINGSWITHDIAGONALRAINASHEHADSEENINJAPANESEPRINTS'"
      ]
     },
     "execution_count": 31,
     "metadata": {},
     "output_type": "execute_result"
    }
   ],
   "source": [
    "first"
   ]
  },
  {
   "cell_type": "code",
   "execution_count": 32,
   "metadata": {},
   "outputs": [
    {
     "data": {
      "text/plain": [
       "'OJRGEQKTRNDEVPDOAGRKTLPKUEJNETPVJNEUOJNEJRUVJAKAGQVWRGENPOQLQBOEQKTHVLVJEQEWKKCNSRLPOJRQRGEVDFKJCIDKQQKFQAJVPDECRPEEQVJCOPOQEQRGVRCKRRECRGETPEJNGDVJCQNVLEPEFOJCECGOFKTJVRSPEQNEJEQLVOJRECOJBYKRKVJCOJRGEDKNVDQWGKCPVJBOJNVTEQKTVPDEQGEQVWPEQKJVJNEQWORGRGEAEOQGVQVJCBVISBOVNRKPQKTVNKSJRPYGECJEUEPUOQORECVRTOPQRUVJAKAGQOFLDYNKLOECRGEWKPBQOJIKRGQBERNGEQVJCKODLVOJROJAQIYRGEROFERGEVPROQRFKUECRKVPDEQGEWVQTSDDYOJRGERGPVDDKTHVLVJKJRGERPVOJTPKFLVPOQGEPELEVRECDYNGENBECKSRRGEWOJCKWGEWPKRERKGOQTPOEJCLVSDAVSASOJRKQEEOTORWVQDOBEHVLVJYER!NGODCOQGOQJRORRGEOFLVNRWVQFKPEQSIRDEFKPEISPOECOJGOQRENGJOMSETKPOJQRVJNEGEQKFEROFEQCOUOCECRGENVJUVQSQOJACOVAKJVDDOJEQPVRGEPRGVJSQOJAGKPOZKJRVDLEPQLENROUELDVJEQVQWVQRGEJKPFOJWEQREPJLVOJROJAVJCGEWKSDCQRPEVBGOQLVOJROJAQWORGCOVAKJVDPVOJVQGEGVCQEEJOJHVLVJEQELPOJRQ'"
      ]
     },
     "execution_count": 32,
     "metadata": {},
     "output_type": "execute_result"
    }
   ],
   "source": [
    "cipher"
   ]
  },
  {
   "cell_type": "code",
   "execution_count": 33,
   "metadata": {},
   "outputs": [
    {
     "data": {
      "text/html": [
       "<div>\n",
       "<style scoped>\n",
       "    .dataframe tbody tr th:only-of-type {\n",
       "        vertical-align: middle;\n",
       "    }\n",
       "\n",
       "    .dataframe tbody tr th {\n",
       "        vertical-align: top;\n",
       "    }\n",
       "\n",
       "    .dataframe thead th {\n",
       "        text-align: right;\n",
       "    }\n",
       "</style>\n",
       "<table border=\"1\" class=\"dataframe\">\n",
       "  <thead>\n",
       "    <tr style=\"text-align: right;\">\n",
       "      <th></th>\n",
       "      <th>rule</th>\n",
       "      <th>new_text</th>\n",
       "      <th>chi</th>\n",
       "    </tr>\n",
       "  </thead>\n",
       "  <tbody>\n",
       "    <tr>\n",
       "      <th>X</th>\n",
       "      <td>T =&gt; X</td>\n",
       "      <td>INTHESOXTCLEARLIGHTOXPROVENCEXRANCEVINCENTVANG...</td>\n",
       "      <td>271.303155</td>\n",
       "    </tr>\n",
       "    <tr>\n",
       "      <th>B</th>\n",
       "      <td>T =&gt; B</td>\n",
       "      <td>INTHESOBTCLEARLIGHTOBPROVENCEBRANCEVINCENTVANG...</td>\n",
       "      <td>273.322322</td>\n",
       "    </tr>\n",
       "  </tbody>\n",
       "</table>\n",
       "</div>"
      ],
      "text/plain": [
       "     rule                                           new_text         chi\n",
       "X  T => X  INTHESOXTCLEARLIGHTOXPROVENCEXRANCEVINCENTVANG...  271.303155\n",
       "B  T => B  INTHESOBTCLEARLIGHTOBPROVENCEBRANCEVINCENTVANG...  273.322322"
      ]
     },
     "execution_count": 33,
     "metadata": {},
     "output_type": "execute_result"
    }
   ],
   "source": [
    "chi(cipher, \"T\", key)"
   ]
  },
  {
   "cell_type": "code",
   "execution_count": 34,
   "metadata": {},
   "outputs": [
    {
     "data": {
      "text/html": [
       "<div>\n",
       "<style scoped>\n",
       "    .dataframe tbody tr th:only-of-type {\n",
       "        vertical-align: middle;\n",
       "    }\n",
       "\n",
       "    .dataframe tbody tr th {\n",
       "        vertical-align: top;\n",
       "    }\n",
       "\n",
       "    .dataframe thead th {\n",
       "        text-align: right;\n",
       "    }\n",
       "</style>\n",
       "<table border=\"1\" class=\"dataframe\">\n",
       "  <thead>\n",
       "    <tr style=\"text-align: right;\">\n",
       "      <th></th>\n",
       "      <th>rule</th>\n",
       "      <th>new_text</th>\n",
       "      <th>chi</th>\n",
       "    </tr>\n",
       "  </thead>\n",
       "  <tbody>\n",
       "    <tr>\n",
       "      <th>X</th>\n",
       "      <td>! =&gt; X</td>\n",
       "      <td>INTHESOFTCLEARLIGHTOFPROVENCEFRANCEVINCENTVANG...</td>\n",
       "      <td>274.416497</td>\n",
       "    </tr>\n",
       "    <tr>\n",
       "      <th>B</th>\n",
       "      <td>! =&gt; B</td>\n",
       "      <td>INTHESOFTCLEARLIGHTOFPROVENCEFRANCEVINCENTVANG...</td>\n",
       "      <td>276.415662</td>\n",
       "    </tr>\n",
       "  </tbody>\n",
       "</table>\n",
       "</div>"
      ],
      "text/plain": [
       "     rule                                           new_text         chi\n",
       "X  ! => X  INTHESOFTCLEARLIGHTOFPROVENCEFRANCEVINCENTVANG...  274.416497\n",
       "B  ! => B  INTHESOFTCLEARLIGHTOFPROVENCEFRANCEVINCENTVANG...  276.415662"
      ]
     },
     "execution_count": 34,
     "metadata": {},
     "output_type": "execute_result"
    }
   ],
   "source": [
    "find_not_decrypted(cipher, key)"
   ]
  },
  {
   "cell_type": "markdown",
   "metadata": {},
   "source": [
    "done"
   ]
  }
 ],
 "metadata": {
  "interpreter": {
   "hash": "106aa8221853b8d5d0b3564e2a1f9759ca54733c71712d3b42aace9d09716949"
  },
  "kernelspec": {
   "display_name": "Python 3.8.1 ('venv': venv)",
   "language": "python",
   "name": "python3"
  },
  "language_info": {
   "codemirror_mode": {
    "name": "ipython",
    "version": 3
   },
   "file_extension": ".py",
   "mimetype": "text/x-python",
   "name": "python",
   "nbconvert_exporter": "python",
   "pygments_lexer": "ipython3",
   "version": "3.8.1"
  },
  "orig_nbformat": 4
 },
 "nbformat": 4,
 "nbformat_minor": 2
}
