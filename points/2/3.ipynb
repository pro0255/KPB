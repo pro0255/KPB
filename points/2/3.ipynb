{
 "cells": [
  {
   "cell_type": "code",
   "execution_count": 1,
   "metadata": {},
   "outputs": [],
   "source": [
    "cipher = \"HMHLTBTQMUZOJWYEUHSVTCHEUOCGGBODRDTQKGVLOBROKRPFQOSDYQSDRZPQMSOWNSNRTJPQZWZQGZHLYRZPXSRDXRTQMKSDZWDDIVTHBOMOKOYGYVPKGRLPKGDDMSQRXOYBECFQMGEHXGHKUATJNHHLYVERLCWOUKTQNSCIUCEVZSAVGBODOAQRXGFFISDVUBMRZVDNOGLQJGYRCPZDXRORCVLWKJPUECFZGBEVNSDDORTIECFZGBEWUQSRUGPMAGERTSEKKBNKUCDHPIDWUBPLCOYWKRERIVZRYSMRZVLQJOWRZCQSKCAOKHZOJAPWNOELZGYRZDZVYWMOKHZJKHERZVPWUDTQHCEKUPGLUIDOEWEVTCEHGGJLZGLJXSLWZVTQMHSDZWNDTPPKKFPLTPZWNGARXHDDTRPQPCJEUHSVVCCWYVPUKWYWNSCHVIMOOQZIQCCHGAJSROYLYHZVZOJZOHSPEVPDXHDRLCCQUKTWNWYNOKTORRZEUHSEKQLXYSTOUJPEUHSDTRTOUJPWURZWNWDVNSLGJSO\""
   ]
  },
  {
   "cell_type": "code",
   "execution_count": 2,
   "metadata": {},
   "outputs": [
    {
     "data": {
      "text/plain": [
       "'HMHLTBTQMUZOJWYEUHSVTCHEUOCGGBODRDTQKGVLOBROKRPFQOSDYQSDRZPQMSOWNSNRTJPQZWZQGZHLYRZPXSRDXRTQMKSDZWDDIVTHBOMOKOYGYVPKGRLPKGDDMSQRXOYBECFQMGEHXGHKUATJNHHLYVERLCWOUKTQNSCIUCEVZSAVGBODOAQRXGFFISDVUBMRZVDNOGLQJGYRCPZDXRORCVLWKJPUECFZGBEVNSDDORTIECFZGBEWUQSR'"
      ]
     },
     "execution_count": 2,
     "metadata": {},
     "output_type": "execute_result"
    }
   ],
   "source": [
    "cipher"
   ]
  },
  {
   "cell_type": "markdown",
   "metadata": {},
   "source": [
    "done popis v dokumentu"
   ]
  },
  {
   "cell_type": "markdown",
   "metadata": {},
   "source": []
  }
 ],
 "metadata": {
  "interpreter": {
   "hash": "106aa8221853b8d5d0b3564e2a1f9759ca54733c71712d3b42aace9d09716949"
  },
  "kernelspec": {
   "display_name": "Python 3.8.1 ('venv': venv)",
   "language": "python",
   "name": "python3"
  },
  "language_info": {
   "codemirror_mode": {
    "name": "ipython",
    "version": 3
   },
   "file_extension": ".py",
   "mimetype": "text/x-python",
   "name": "python",
   "nbconvert_exporter": "python",
   "pygments_lexer": "ipython3",
   "version": "3.8.1"
  },
  "orig_nbformat": 4
 },
 "nbformat": 4,
 "nbformat_minor": 2
}
