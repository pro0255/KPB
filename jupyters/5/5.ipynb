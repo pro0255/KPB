{
 "cells": [
  {
   "cell_type": "markdown",
   "metadata": {},
   "source": [
    "# Asymetrické algoritmy"
   ]
  },
  {
   "cell_type": "markdown",
   "metadata": {},
   "source": [
    "## Přednáška 14.3.2022"
   ]
  },
  {
   "cell_type": "markdown",
   "metadata": {},
   "source": [
    "- šifrování, digitální podpis, distribuce klíčů\n",
    "- podpis vzniká šifrováním sukromým klíčem"
   ]
  },
  {
   "cell_type": "markdown",
   "metadata": {},
   "source": [
    "## Cvičení 14.3.2022"
   ]
  },
  {
   "cell_type": "markdown",
   "metadata": {},
   "source": [
    "- https://www.extendedeuclideanalgorithm.com/calculator.php?mode=1&a=120&b=103#num\n",
    "- https://www.dcode.fr/euler-totient\n",
    "- https://keisan.casio.com/exec/system/15901266097609\n"
   ]
  },
  {
   "cell_type": "markdown",
   "metadata": {},
   "source": [
    "1. Simulujte šifrování a dešifrování pomocí RSA pokud jsou dány následující hodnoty:\n",
    "    - a) p=7, q=11, e=17, m=8,\n",
    "    - b) p=13, q=11, d=7, m=5,\n",
    "    - c) Pro určení multiplikativního inverzního (tedy buď veřejného (viz b)) nebo soukromého\n",
    "klíče (viz a))) prvku použijte EEA (najděte nějaký online tool)"
   ]
  },
  {
   "cell_type": "markdown",
   "metadata": {},
   "source": [
    "#### a)\n",
    "\n",
    "- p * q = 77 (veřejná hodnota)\n",
    "- fi(77) = 6 * 10 = 60\n",
    "- e = 17 (exponent)\n",
    "- musí platit že 60 a 17 jsou nesoudělné\n",
    "- gcd(60, 17) = 1 .. správně zvolený klíč\n",
    "- výpočet soukromého klíče\n",
    "- d * e ... (d * 17 = 1 mod 60)\n",
    "- d = 53\n",
    "- m = 8 (zpráva)\n",
    "\n",
    "##### výpočet\n",
    "\n",
    "- zpráva je menší jak veřejná hodnota.. existuje jen jeden blok\n",
    "- 8**17 mod 77 = 57 ... šifrování\n",
    "- 57**53 mod 77 = 8 ... dešifrování"
   ]
  },
  {
   "cell_type": "code",
   "execution_count": 2,
   "metadata": {},
   "outputs": [
    {
     "data": {
      "text/plain": [
       "57"
      ]
     },
     "execution_count": 2,
     "metadata": {},
     "output_type": "execute_result"
    }
   ],
   "source": [
    "((8**17) % 77)"
   ]
  },
  {
   "cell_type": "code",
   "execution_count": 3,
   "metadata": {},
   "outputs": [
    {
     "data": {
      "text/plain": [
       "8"
      ]
     },
     "execution_count": 3,
     "metadata": {},
     "output_type": "execute_result"
    }
   ],
   "source": [
    "((57**53) % 77)"
   ]
  },
  {
   "cell_type": "markdown",
   "metadata": {},
   "source": [
    "#### b)\n",
    "\n",
    "- p = 13\n",
    "- q = 11\n",
    "- p * q = 143 (veřejná hodnota)\n",
    "- fi(143) = 12 * 10 = 120\n",
    "- d = 7\n",
    "- e = 103\n",
    "- musí platit že 120 a 103 jsou nesoudělné\n",
    "\n",
    "- gcd(120, 103) = 1 .. správně zvolený klíč\n",
    "- výpočet soukromého klíče\n",
    "- m = 5 (zpráva)\n",
    "\n",
    "##### výpočet\n",
    "\n",
    "- zpráva je menší jak veřejná hodnota.. existuje jen jeden blok\n",
    "- 5**103 mod 143 = 125 ... šifrování\n",
    "- 125**7 mod 143 = 5 ... dešifrování\n"
   ]
  },
  {
   "cell_type": "code",
   "execution_count": 5,
   "metadata": {},
   "outputs": [
    {
     "data": {
      "text/plain": [
       "125"
      ]
     },
     "execution_count": 5,
     "metadata": {},
     "output_type": "execute_result"
    }
   ],
   "source": [
    "((5**103) % 143)"
   ]
  },
  {
   "cell_type": "code",
   "execution_count": 7,
   "metadata": {},
   "outputs": [
    {
     "data": {
      "text/plain": [
       "5"
      ]
     },
     "execution_count": 7,
     "metadata": {},
     "output_type": "execute_result"
    }
   ],
   "source": [
    "((125**7) % 143)"
   ]
  },
  {
   "cell_type": "markdown",
   "metadata": {},
   "source": [
    "2. Je dáno podpisové RSA schéma s veřejným klíčem (e = 131, n = 9797). Který z následujících\n",
    "podpisů platí (zdůvodněte)?\n",
    "    - a) M = 123; C = sig(M) = 6292,\n",
    "    - b) M = 4333; C = sig(M) = 4768,\n",
    "    - c) M = 4333; C = sig(M) = 1424\n",
    "\n",
    "\n",
    "    - Jaké jsou soukromé klíče?\n",
    "\n",
    "C na X mod 9797"
   ]
  },
  {
   "cell_type": "markdown",
   "metadata": {},
   "source": [
    "Šifrování podpisu pomocí veřejného klíče\n",
    "\n",
    "- z n najít fn\n",
    "- vygenerovat d"
   ]
  },
  {
   "cell_type": "markdown",
   "metadata": {},
   "source": [
    "fn = 9600"
   ]
  },
  {
   "cell_type": "markdown",
   "metadata": {},
   "source": [
    "d = 3371"
   ]
  },
  {
   "cell_type": "markdown",
   "metadata": {},
   "source": [
    "a)"
   ]
  },
  {
   "cell_type": "code",
   "execution_count": 11,
   "metadata": {},
   "outputs": [
    {
     "data": {
      "text/plain": [
       "123"
      ]
     },
     "execution_count": 11,
     "metadata": {},
     "output_type": "execute_result"
    }
   ],
   "source": [
    "((6292**131) % 9797)"
   ]
  },
  {
   "cell_type": "code",
   "execution_count": 16,
   "metadata": {},
   "outputs": [
    {
     "data": {
      "text/plain": [
       "6292"
      ]
     },
     "execution_count": 16,
     "metadata": {},
     "output_type": "execute_result"
    }
   ],
   "source": [
    "((123**3371) % 9797)"
   ]
  },
  {
   "cell_type": "markdown",
   "metadata": {},
   "source": [
    "b)"
   ]
  },
  {
   "cell_type": "markdown",
   "metadata": {},
   "source": [
    "Zde neplatí správný podpis je 1424"
   ]
  },
  {
   "cell_type": "code",
   "execution_count": 12,
   "metadata": {},
   "outputs": [
    {
     "data": {
      "text/plain": [
       "9644"
      ]
     },
     "execution_count": 12,
     "metadata": {},
     "output_type": "execute_result"
    }
   ],
   "source": [
    "((4768**131) % 9797)"
   ]
  },
  {
   "cell_type": "code",
   "execution_count": 17,
   "metadata": {},
   "outputs": [
    {
     "data": {
      "text/plain": [
       "1424"
      ]
     },
     "execution_count": 17,
     "metadata": {},
     "output_type": "execute_result"
    }
   ],
   "source": [
    "((4333**3371) % 9797)"
   ]
  },
  {
   "cell_type": "markdown",
   "metadata": {},
   "source": [
    "c)"
   ]
  },
  {
   "cell_type": "code",
   "execution_count": 13,
   "metadata": {},
   "outputs": [
    {
     "data": {
      "text/plain": [
       "4333"
      ]
     },
     "execution_count": 13,
     "metadata": {},
     "output_type": "execute_result"
    }
   ],
   "source": [
    "((1424**131) % 9797)"
   ]
  },
  {
   "cell_type": "code",
   "execution_count": 15,
   "metadata": {},
   "outputs": [
    {
     "data": {
      "text/plain": [
       "1424"
      ]
     },
     "execution_count": 15,
     "metadata": {},
     "output_type": "execute_result"
    }
   ],
   "source": [
    "((4333**3371) % 9797)"
   ]
  },
  {
   "cell_type": "markdown",
   "metadata": {},
   "source": [
    "### 4. Lab on RSA Encryption and Factorization Attacks"
   ]
  },
  {
   "cell_type": "markdown",
   "metadata": {},
   "source": [
    "#### 5"
   ]
  },
  {
   "cell_type": "markdown",
   "metadata": {},
   "source": [
    "Block 1"
   ]
  },
  {
   "cell_type": "markdown",
   "metadata": {},
   "source": [
    "58455 # 30900 # 02593 # 37260 # 28092 # 04562 # 16634 # 36959 # 36959 # 39103 # 03240"
   ]
  },
  {
   "cell_type": "markdown",
   "metadata": {},
   "source": [
    "Block 2\n",
    "\n",
    "- polovina delky\n"
   ]
  },
  {
   "cell_type": "markdown",
   "metadata": {},
   "source": [
    "63813 # 17874 # 31769 # 54458 # 53353 # 60216"
   ]
  },
  {
   "cell_type": "markdown",
   "metadata": {},
   "source": [
    "45411667895024938209259253423 # 16597091621432020076311552201 # 46468979279750354732637631044 # 32870167545903741339819671379"
   ]
  },
  {
   "cell_type": "markdown",
   "metadata": {},
   "source": []
  }
 ],
 "metadata": {
  "interpreter": {
   "hash": "25a6d3ff1ecdb9efcd44ba1d5748309e56079b2fd012764d6b8fda2a7552d68d"
  },
  "kernelspec": {
   "display_name": "Python 3.8.6rc1 ('venv': venv)",
   "language": "python",
   "name": "python3"
  },
  "language_info": {
   "codemirror_mode": {
    "name": "ipython",
    "version": 3
   },
   "file_extension": ".py",
   "mimetype": "text/x-python",
   "name": "python",
   "nbconvert_exporter": "python",
   "pygments_lexer": "ipython3",
   "version": "3.8.6rc1"
  },
  "orig_nbformat": 4
 },
 "nbformat": 4,
 "nbformat_minor": 2
}
