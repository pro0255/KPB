{
 "cells": [
  {
   "cell_type": "markdown",
   "metadata": {},
   "source": [
    "Cvičení: http://www.cs.vsb.cz/ochodkova/courses/kpb/Cviceni%207_2022.pdf\n",
    "\n",
    "Prezentace: http://www.cs.vsb.cz/ochodkova/courses/kpb/KPB8_2022.pdf\n",
    "\n",
    "\n",
    "\n",
    "\n",
    "\n",
    "\n"
   ]
  },
  {
   "cell_type": "markdown",
   "metadata": {},
   "source": []
  }
 ],
 "metadata": {
  "language_info": {
   "name": "python"
  },
  "orig_nbformat": 4
 },
 "nbformat": 4,
 "nbformat_minor": 2
}
