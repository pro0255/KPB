{
 "cells": [
  {
   "cell_type": "markdown",
   "metadata": {},
   "source": [
    "openssl list -cipher-commands\n",
    "... vylistuje vsechny alg"
   ]
  },
  {
   "cell_type": "markdown",
   "metadata": {},
   "source": [
    "# Šifrování\n"
   ]
  },
  {
   "cell_type": "markdown",
   "metadata": {},
   "source": [
    "openssl enc -aes-128-cbc -pass pass:kekayan -in oa.txt -out cbc_sa1.enc"
   ]
  },
  {
   "cell_type": "markdown",
   "metadata": {},
   "source": [
    "openssl enc -aes-128-ecb -pass pass:kekayan -in oa.txt -out ebc_sa2.enc"
   ]
  },
  {
   "cell_type": "markdown",
   "metadata": {},
   "source": [
    "# Dešifrování"
   ]
  },
  {
   "cell_type": "markdown",
   "metadata": {},
   "source": [
    " openssl enc -aes-128-cbc -pass pass:kekayan -d -in cbc_sa1.enc -out cbc_oa1.txt"
   ]
  },
  {
   "cell_type": "markdown",
   "metadata": {},
   "source": [
    " openssl enc -aes-128-ecb -pass pass:kekayan -d -in ebc_sa2.enc -out ebc_oa2.txt   ... jen jeden blok"
   ]
  },
  {
   "cell_type": "markdown",
   "metadata": {},
   "source": [
    "# Modifikovaný 98"
   ]
  },
  {
   "cell_type": "markdown",
   "metadata": {},
   "source": [
    "openssl enc -aes-128-cbc -pass pass:kekayan -d -in cbc_modified.enc -out cbc_mod.txt\n"
   ]
  },
  {
   "cell_type": "markdown",
   "metadata": {},
   "source": [
    "openssl enc -aes-128-ecb -pass pass:kekayan -d -in ebc_modified.enc -out ebc_mod.txt\n"
   ]
  },
  {
   "cell_type": "markdown",
   "metadata": {},
   "source": [
    "# Smazaný 98"
   ]
  },
  {
   "cell_type": "markdown",
   "metadata": {},
   "source": [
    "openssl enc -aes-128-cbc -pass pass:kekayan -d -in cbc_deleted.enc -out cbc_del.txt\n"
   ]
  },
  {
   "cell_type": "markdown",
   "metadata": {},
   "source": [
    "openssl enc -aes-128-ecb -pass pass:kekayan -d -in ebc_deleted.enc -out ebc_del.txt\n"
   ]
  },
  {
   "cell_type": "markdown",
   "metadata": {},
   "source": [
    "- Naopak cbc by mel byt cely rozbity\n",
    "- Ebc by melo byt jen od bloku"
   ]
  },
  {
   "cell_type": "markdown",
   "metadata": {},
   "source": [
    "# Odpovědi"
   ]
  },
  {
   "cell_type": "markdown",
   "metadata": {},
   "source": [
    "Zodpovezte: \n",
    "- 1.\n",
    "- 2.\n",
    "- 3.\n",
    "- 4.\n"
   ]
  },
  {
   "cell_type": "markdown",
   "metadata": {},
   "source": []
  }
 ],
 "metadata": {
  "language_info": {
   "name": "python"
  },
  "orig_nbformat": 4
 },
 "nbformat": 4,
 "nbformat_minor": 2
}
