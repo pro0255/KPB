{
 "cells": [
  {
   "cell_type": "markdown",
   "id": "b3e00640",
   "metadata": {},
   "source": [
    "##### Naimplementujte zobecněnou Caesarovu šifru, tedy šifrovací algoritmus označovaný jako Shift cipher. Pracujte s přípustnou abecedou obsahující jen znaky anglické abecedy bez mezery, a to velká písmena. Implementujte jak šifrování, tak dešifrování. Ošetřete situaci, kdy v otevřeném textu budou nepřípustné znaky a malá písmena. Vytvořte jednoduché GUI (stačí na příštím cvičení) pro vstup otevřeného textu, výstup šifrového, čtení / zápis ze soboru atd."
   ]
  },
  {
   "cell_type": "code",
   "execution_count": 14,
   "id": "3a4ed0e9",
   "metadata": {},
   "outputs": [],
   "source": [
    "def generate_alphabet(start, end):\n",
    "    alphabet = {}\n",
    "    for i in range(start, end+1):\n",
    "        c = chr(i)\n",
    "        alphabet[c] = i\n",
    "\n",
    "    return alphabet"
   ]
  },
  {
   "cell_type": "code",
   "execution_count": 15,
   "id": "25396590",
   "metadata": {},
   "outputs": [],
   "source": [
    "aplhabet = generate_alphabet(65, 90)"
   ]
  },
  {
   "cell_type": "code",
   "execution_count": 149,
   "id": "4fafe1b6",
   "metadata": {},
   "outputs": [],
   "source": [
    "class ShiftCipher:\n",
    "    def __init__(self, alphabet):\n",
    "        self.alphabet = alphabet\n",
    "\n",
    "    def get_translation(self, k):\n",
    "        keys = list(self.alphabet.keys())\n",
    "        translation = keys.index(k)\n",
    "        return translation\n",
    "\n",
    "    def decode(self, text, k):\n",
    "        if not (self.verify_key(k)):\n",
    "            print(\"Error\")\n",
    "            return\n",
    "\n",
    "        translation = self.get_translation(k)\n",
    "        self.create_decode_encode_table(translation)\n",
    "        return \"\".join([self.decode_table[c] for c in text])\n",
    "    \n",
    "    def create_decode_encode_table(self, translation):\n",
    "        self.encode_table = {c: self.translate(c, translation) for c in self.alphabet}\n",
    "        self.decode_table = {v: k for k, v in self.encode_table.items()}\n",
    "\n",
    "    def verify_key(self, k):\n",
    "        if not k in self.alphabet:\n",
    "            print(\"Key is not allowed!\")\n",
    "            return False\n",
    "\n",
    "        return True\n",
    "\n",
    "    def verify_open_text(self, oa):\n",
    "        all_chars = set(oa)\n",
    "        alphabet = set(self.alphabet)\n",
    "        dif = all_chars.difference(alphabet)\n",
    "        is_ok = len(dif) == 0\n",
    "\n",
    "        if not is_ok:\n",
    "            exception_text = f\"Open text contains illegal char {dif}\"\n",
    "            assert Exception(exception_text)\n",
    "            return False\n",
    "        return True\n",
    "\n",
    "    def translate(self, c, translation):\n",
    "        keys = list(self.alphabet)\n",
    "        current_index = keys.index(c)\n",
    "        l = len(keys)\n",
    "        new_index = (current_index + translation) % l \n",
    "        return keys[new_index]\n",
    "\n",
    "    def encode(self, text, k):\n",
    "        if not (self.verify_open_text(text) and self.verify_key(k)):\n",
    "            print(\"Error\")\n",
    "            return\n",
    "\n",
    "        translation = self.get_translation(k)\n",
    "        self.create_decode_encode_table(translation)\n",
    "        return \"\".join([self.encode_table[c] for c in text])"
   ]
  },
  {
   "cell_type": "code",
   "execution_count": 150,
   "id": "d276e3db",
   "metadata": {},
   "outputs": [],
   "source": [
    "cipher = ShiftCipher(aplhabet)"
   ]
  },
  {
   "cell_type": "code",
   "execution_count": 152,
   "id": "35ea36b9",
   "metadata": {},
   "outputs": [
    {
     "data": {
      "text/plain": [
       "'PQBWB'"
      ]
     },
     "execution_count": 152,
     "metadata": {},
     "output_type": "execute_result"
    }
   ],
   "source": [
    "cipher.encode(\"OPAVA\", \"B\")"
   ]
  },
  {
   "cell_type": "code",
   "execution_count": 154,
   "id": "71c24014",
   "metadata": {},
   "outputs": [
    {
     "data": {
      "text/plain": [
       "'OPAVA'"
      ]
     },
     "execution_count": 154,
     "metadata": {},
     "output_type": "execute_result"
    }
   ],
   "source": [
    "cipher.decode(\"PQBWB\", \"B\")"
   ]
  },
  {
   "cell_type": "markdown",
   "id": "6b00f104",
   "metadata": {},
   "source": [
    "##### Jaký je správný otevřený text pro tento šifrový? Tedy implementujte útok hrubou silou pro\n",
    "Shift šifru.\n",
    "LTTLQJHMHJSDSNUTRTHNZENAFYJQZRXPTSYWTQTZEIFOJOJONHMMJXQTOJXYJXYFQJGJEUJ\n",
    "HSJKNWRFUWTYTUWNUWFANQFXUJHNFQSNITUQSJPITUWTMQNEJHJHMWTRJYJSUTPFEIJPI\n",
    "DEEFIFYJSJPIJSFNSYJWSJYZMJXQTEPTSYWTQZOJEIFSJSNAIFYFGFENPTRUWTRNYTAFSDHMMJXJQ"
   ]
  },
  {
   "cell_type": "code",
   "execution_count": 156,
   "id": "f48c42a8",
   "metadata": {},
   "outputs": [],
   "source": [
    "TEST_SA_TEXT = \"LTTLQJHMHJSDSNUTRTHNZENAFYJQZRXPTSYWTQTZEIFOJOJONHMMJXQTOJXYJXYFQJGJEUJHSJKNWRFUWTYTUWNUWFANQFXUJHNFQSNITUQSJPITUWTMQNEJHJHMWTRJYJSUTPFEIJPIDEEFIFYJSJPIJSFNSYJWSJYZMJXQTEPTSYWTQZOJEIFSJSNAIFYFGFENPTRUWTRNYTAFSDHMMJXJQ\""
   ]
  },
  {
   "cell_type": "code",
   "execution_count": 157,
   "id": "e19ac0e1",
   "metadata": {},
   "outputs": [],
   "source": [
    "import pandas as pd\n",
    "\n",
    "def bruto_cipher(instance, alphabet, sa_text):\n",
    "    original = [sa_text] * len(alphabet)\n",
    "    keys = []\n",
    "    decrypted = []\n",
    "    for c in alphabet:\n",
    "        keys.append(c)\n",
    "        oa_text = instance.decode(sa_text, c)\n",
    "        decrypted.append(oa_text)\n",
    "\n",
    "    df = pd.DataFrame()\n",
    "    df['sa_text'] = original\n",
    "    df['key'] = keys\n",
    "    df['oa_text'] = decrypted\n",
    "    return df"
   ]
  },
  {
   "cell_type": "code",
   "execution_count": 160,
   "id": "9fb3e784",
   "metadata": {},
   "outputs": [],
   "source": [
    "df = bruto_cipher(ShiftCipher(aplhabet), aplhabet, TEST_SA_TEXT)"
   ]
  },
  {
   "cell_type": "code",
   "execution_count": 162,
   "id": "449955c7",
   "metadata": {},
   "outputs": [
    {
     "data": {
      "text/html": [
       "<div>\n",
       "<style scoped>\n",
       "    .dataframe tbody tr th:only-of-type {\n",
       "        vertical-align: middle;\n",
       "    }\n",
       "\n",
       "    .dataframe tbody tr th {\n",
       "        vertical-align: top;\n",
       "    }\n",
       "\n",
       "    .dataframe thead th {\n",
       "        text-align: right;\n",
       "    }\n",
       "</style>\n",
       "<table border=\"1\" class=\"dataframe\">\n",
       "  <thead>\n",
       "    <tr style=\"text-align: right;\">\n",
       "      <th></th>\n",
       "      <th>sa_text</th>\n",
       "      <th>key</th>\n",
       "      <th>oa_text</th>\n",
       "    </tr>\n",
       "  </thead>\n",
       "  <tbody>\n",
       "    <tr>\n",
       "      <th>0</th>\n",
       "      <td>LTTLQJHMHJSDSNUTRTHNZENAFYJQZRXPTSYWTQTZEIFOJO...</td>\n",
       "      <td>A</td>\n",
       "      <td>LTTLQJHMHJSDSNUTRTHNZENAFYJQZRXPTSYWTQTZEIFOJO...</td>\n",
       "    </tr>\n",
       "    <tr>\n",
       "      <th>1</th>\n",
       "      <td>LTTLQJHMHJSDSNUTRTHNZENAFYJQZRXPTSYWTQTZEIFOJO...</td>\n",
       "      <td>B</td>\n",
       "      <td>KSSKPIGLGIRCRMTSQSGMYDMZEXIPYQWOSRXVSPSYDHENIN...</td>\n",
       "    </tr>\n",
       "    <tr>\n",
       "      <th>2</th>\n",
       "      <td>LTTLQJHMHJSDSNUTRTHNZENAFYJQZRXPTSYWTQTZEIFOJO...</td>\n",
       "      <td>C</td>\n",
       "      <td>JRRJOHFKFHQBQLSRPRFLXCLYDWHOXPVNRQWURORXCGDMHM...</td>\n",
       "    </tr>\n",
       "    <tr>\n",
       "      <th>3</th>\n",
       "      <td>LTTLQJHMHJSDSNUTRTHNZENAFYJQZRXPTSYWTQTZEIFOJO...</td>\n",
       "      <td>D</td>\n",
       "      <td>IQQINGEJEGPAPKRQOQEKWBKXCVGNWOUMQPVTQNQWBFCLGL...</td>\n",
       "    </tr>\n",
       "    <tr>\n",
       "      <th>4</th>\n",
       "      <td>LTTLQJHMHJSDSNUTRTHNZENAFYJQZRXPTSYWTQTZEIFOJO...</td>\n",
       "      <td>E</td>\n",
       "      <td>HPPHMFDIDFOZOJQPNPDJVAJWBUFMVNTLPOUSPMPVAEBKFK...</td>\n",
       "    </tr>\n",
       "    <tr>\n",
       "      <th>5</th>\n",
       "      <td>LTTLQJHMHJSDSNUTRTHNZENAFYJQZRXPTSYWTQTZEIFOJO...</td>\n",
       "      <td>F</td>\n",
       "      <td>GOOGLECHCENYNIPOMOCIUZIVATELUMSKONTROLOUZDAJEJ...</td>\n",
       "    </tr>\n",
       "    <tr>\n",
       "      <th>6</th>\n",
       "      <td>LTTLQJHMHJSDSNUTRTHNZENAFYJQZRXPTSYWTQTZEIFOJO...</td>\n",
       "      <td>G</td>\n",
       "      <td>FNNFKDBGBDMXMHONLNBHTYHUZSDKTLRJNMSQNKNTYCZIDI...</td>\n",
       "    </tr>\n",
       "    <tr>\n",
       "      <th>7</th>\n",
       "      <td>LTTLQJHMHJSDSNUTRTHNZENAFYJQZRXPTSYWTQTZEIFOJO...</td>\n",
       "      <td>H</td>\n",
       "      <td>EMMEJCAFACLWLGNMKMAGSXGTYRCJSKQIMLRPMJMSXBYHCH...</td>\n",
       "    </tr>\n",
       "    <tr>\n",
       "      <th>8</th>\n",
       "      <td>LTTLQJHMHJSDSNUTRTHNZENAFYJQZRXPTSYWTQTZEIFOJO...</td>\n",
       "      <td>I</td>\n",
       "      <td>DLLDIBZEZBKVKFMLJLZFRWFSXQBIRJPHLKQOLILRWAXGBG...</td>\n",
       "    </tr>\n",
       "    <tr>\n",
       "      <th>9</th>\n",
       "      <td>LTTLQJHMHJSDSNUTRTHNZENAFYJQZRXPTSYWTQTZEIFOJO...</td>\n",
       "      <td>J</td>\n",
       "      <td>CKKCHAYDYAJUJELKIKYEQVERWPAHQIOGKJPNKHKQVZWFAF...</td>\n",
       "    </tr>\n",
       "    <tr>\n",
       "      <th>10</th>\n",
       "      <td>LTTLQJHMHJSDSNUTRTHNZENAFYJQZRXPTSYWTQTZEIFOJO...</td>\n",
       "      <td>K</td>\n",
       "      <td>BJJBGZXCXZITIDKJHJXDPUDQVOZGPHNFJIOMJGJPUYVEZE...</td>\n",
       "    </tr>\n",
       "    <tr>\n",
       "      <th>11</th>\n",
       "      <td>LTTLQJHMHJSDSNUTRTHNZENAFYJQZRXPTSYWTQTZEIFOJO...</td>\n",
       "      <td>L</td>\n",
       "      <td>AIIAFYWBWYHSHCJIGIWCOTCPUNYFOGMEIHNLIFIOTXUDYD...</td>\n",
       "    </tr>\n",
       "    <tr>\n",
       "      <th>12</th>\n",
       "      <td>LTTLQJHMHJSDSNUTRTHNZENAFYJQZRXPTSYWTQTZEIFOJO...</td>\n",
       "      <td>M</td>\n",
       "      <td>ZHHZEXVAVXGRGBIHFHVBNSBOTMXENFLDHGMKHEHNSWTCXC...</td>\n",
       "    </tr>\n",
       "    <tr>\n",
       "      <th>13</th>\n",
       "      <td>LTTLQJHMHJSDSNUTRTHNZENAFYJQZRXPTSYWTQTZEIFOJO...</td>\n",
       "      <td>N</td>\n",
       "      <td>YGGYDWUZUWFQFAHGEGUAMRANSLWDMEKCGFLJGDGMRVSBWB...</td>\n",
       "    </tr>\n",
       "    <tr>\n",
       "      <th>14</th>\n",
       "      <td>LTTLQJHMHJSDSNUTRTHNZENAFYJQZRXPTSYWTQTZEIFOJO...</td>\n",
       "      <td>O</td>\n",
       "      <td>XFFXCVTYTVEPEZGFDFTZLQZMRKVCLDJBFEKIFCFLQURAVA...</td>\n",
       "    </tr>\n",
       "    <tr>\n",
       "      <th>15</th>\n",
       "      <td>LTTLQJHMHJSDSNUTRTHNZENAFYJQZRXPTSYWTQTZEIFOJO...</td>\n",
       "      <td>P</td>\n",
       "      <td>WEEWBUSXSUDODYFECESYKPYLQJUBKCIAEDJHEBEKPTQZUZ...</td>\n",
       "    </tr>\n",
       "    <tr>\n",
       "      <th>16</th>\n",
       "      <td>LTTLQJHMHJSDSNUTRTHNZENAFYJQZRXPTSYWTQTZEIFOJO...</td>\n",
       "      <td>Q</td>\n",
       "      <td>VDDVATRWRTCNCXEDBDRXJOXKPITAJBHZDCIGDADJOSPYTY...</td>\n",
       "    </tr>\n",
       "    <tr>\n",
       "      <th>17</th>\n",
       "      <td>LTTLQJHMHJSDSNUTRTHNZENAFYJQZRXPTSYWTQTZEIFOJO...</td>\n",
       "      <td>R</td>\n",
       "      <td>UCCUZSQVQSBMBWDCACQWINWJOHSZIAGYCBHFCZCINROXSX...</td>\n",
       "    </tr>\n",
       "    <tr>\n",
       "      <th>18</th>\n",
       "      <td>LTTLQJHMHJSDSNUTRTHNZENAFYJQZRXPTSYWTQTZEIFOJO...</td>\n",
       "      <td>S</td>\n",
       "      <td>TBBTYRPUPRALAVCBZBPVHMVINGRYHZFXBAGEBYBHMQNWRW...</td>\n",
       "    </tr>\n",
       "    <tr>\n",
       "      <th>19</th>\n",
       "      <td>LTTLQJHMHJSDSNUTRTHNZENAFYJQZRXPTSYWTQTZEIFOJO...</td>\n",
       "      <td>T</td>\n",
       "      <td>SAASXQOTOQZKZUBAYAOUGLUHMFQXGYEWAZFDAXAGLPMVQV...</td>\n",
       "    </tr>\n",
       "    <tr>\n",
       "      <th>20</th>\n",
       "      <td>LTTLQJHMHJSDSNUTRTHNZENAFYJQZRXPTSYWTQTZEIFOJO...</td>\n",
       "      <td>U</td>\n",
       "      <td>RZZRWPNSNPYJYTAZXZNTFKTGLEPWFXDVZYECZWZFKOLUPU...</td>\n",
       "    </tr>\n",
       "    <tr>\n",
       "      <th>21</th>\n",
       "      <td>LTTLQJHMHJSDSNUTRTHNZENAFYJQZRXPTSYWTQTZEIFOJO...</td>\n",
       "      <td>V</td>\n",
       "      <td>QYYQVOMRMOXIXSZYWYMSEJSFKDOVEWCUYXDBYVYEJNKTOT...</td>\n",
       "    </tr>\n",
       "    <tr>\n",
       "      <th>22</th>\n",
       "      <td>LTTLQJHMHJSDSNUTRTHNZENAFYJQZRXPTSYWTQTZEIFOJO...</td>\n",
       "      <td>W</td>\n",
       "      <td>PXXPUNLQLNWHWRYXVXLRDIREJCNUDVBTXWCAXUXDIMJSNS...</td>\n",
       "    </tr>\n",
       "    <tr>\n",
       "      <th>23</th>\n",
       "      <td>LTTLQJHMHJSDSNUTRTHNZENAFYJQZRXPTSYWTQTZEIFOJO...</td>\n",
       "      <td>X</td>\n",
       "      <td>OWWOTMKPKMVGVQXWUWKQCHQDIBMTCUASWVBZWTWCHLIRMR...</td>\n",
       "    </tr>\n",
       "    <tr>\n",
       "      <th>24</th>\n",
       "      <td>LTTLQJHMHJSDSNUTRTHNZENAFYJQZRXPTSYWTQTZEIFOJO...</td>\n",
       "      <td>Y</td>\n",
       "      <td>NVVNSLJOJLUFUPWVTVJPBGPCHALSBTZRVUAYVSVBGKHQLQ...</td>\n",
       "    </tr>\n",
       "    <tr>\n",
       "      <th>25</th>\n",
       "      <td>LTTLQJHMHJSDSNUTRTHNZENAFYJQZRXPTSYWTQTZEIFOJO...</td>\n",
       "      <td>Z</td>\n",
       "      <td>MUUMRKINIKTETOVUSUIOAFOBGZKRASYQUTZXURUAFJGPKP...</td>\n",
       "    </tr>\n",
       "  </tbody>\n",
       "</table>\n",
       "</div>"
      ],
      "text/plain": [
       "                                              sa_text key  \\\n",
       "0   LTTLQJHMHJSDSNUTRTHNZENAFYJQZRXPTSYWTQTZEIFOJO...   A   \n",
       "1   LTTLQJHMHJSDSNUTRTHNZENAFYJQZRXPTSYWTQTZEIFOJO...   B   \n",
       "2   LTTLQJHMHJSDSNUTRTHNZENAFYJQZRXPTSYWTQTZEIFOJO...   C   \n",
       "3   LTTLQJHMHJSDSNUTRTHNZENAFYJQZRXPTSYWTQTZEIFOJO...   D   \n",
       "4   LTTLQJHMHJSDSNUTRTHNZENAFYJQZRXPTSYWTQTZEIFOJO...   E   \n",
       "5   LTTLQJHMHJSDSNUTRTHNZENAFYJQZRXPTSYWTQTZEIFOJO...   F   \n",
       "6   LTTLQJHMHJSDSNUTRTHNZENAFYJQZRXPTSYWTQTZEIFOJO...   G   \n",
       "7   LTTLQJHMHJSDSNUTRTHNZENAFYJQZRXPTSYWTQTZEIFOJO...   H   \n",
       "8   LTTLQJHMHJSDSNUTRTHNZENAFYJQZRXPTSYWTQTZEIFOJO...   I   \n",
       "9   LTTLQJHMHJSDSNUTRTHNZENAFYJQZRXPTSYWTQTZEIFOJO...   J   \n",
       "10  LTTLQJHMHJSDSNUTRTHNZENAFYJQZRXPTSYWTQTZEIFOJO...   K   \n",
       "11  LTTLQJHMHJSDSNUTRTHNZENAFYJQZRXPTSYWTQTZEIFOJO...   L   \n",
       "12  LTTLQJHMHJSDSNUTRTHNZENAFYJQZRXPTSYWTQTZEIFOJO...   M   \n",
       "13  LTTLQJHMHJSDSNUTRTHNZENAFYJQZRXPTSYWTQTZEIFOJO...   N   \n",
       "14  LTTLQJHMHJSDSNUTRTHNZENAFYJQZRXPTSYWTQTZEIFOJO...   O   \n",
       "15  LTTLQJHMHJSDSNUTRTHNZENAFYJQZRXPTSYWTQTZEIFOJO...   P   \n",
       "16  LTTLQJHMHJSDSNUTRTHNZENAFYJQZRXPTSYWTQTZEIFOJO...   Q   \n",
       "17  LTTLQJHMHJSDSNUTRTHNZENAFYJQZRXPTSYWTQTZEIFOJO...   R   \n",
       "18  LTTLQJHMHJSDSNUTRTHNZENAFYJQZRXPTSYWTQTZEIFOJO...   S   \n",
       "19  LTTLQJHMHJSDSNUTRTHNZENAFYJQZRXPTSYWTQTZEIFOJO...   T   \n",
       "20  LTTLQJHMHJSDSNUTRTHNZENAFYJQZRXPTSYWTQTZEIFOJO...   U   \n",
       "21  LTTLQJHMHJSDSNUTRTHNZENAFYJQZRXPTSYWTQTZEIFOJO...   V   \n",
       "22  LTTLQJHMHJSDSNUTRTHNZENAFYJQZRXPTSYWTQTZEIFOJO...   W   \n",
       "23  LTTLQJHMHJSDSNUTRTHNZENAFYJQZRXPTSYWTQTZEIFOJO...   X   \n",
       "24  LTTLQJHMHJSDSNUTRTHNZENAFYJQZRXPTSYWTQTZEIFOJO...   Y   \n",
       "25  LTTLQJHMHJSDSNUTRTHNZENAFYJQZRXPTSYWTQTZEIFOJO...   Z   \n",
       "\n",
       "                                              oa_text  \n",
       "0   LTTLQJHMHJSDSNUTRTHNZENAFYJQZRXPTSYWTQTZEIFOJO...  \n",
       "1   KSSKPIGLGIRCRMTSQSGMYDMZEXIPYQWOSRXVSPSYDHENIN...  \n",
       "2   JRRJOHFKFHQBQLSRPRFLXCLYDWHOXPVNRQWURORXCGDMHM...  \n",
       "3   IQQINGEJEGPAPKRQOQEKWBKXCVGNWOUMQPVTQNQWBFCLGL...  \n",
       "4   HPPHMFDIDFOZOJQPNPDJVAJWBUFMVNTLPOUSPMPVAEBKFK...  \n",
       "5   GOOGLECHCENYNIPOMOCIUZIVATELUMSKONTROLOUZDAJEJ...  \n",
       "6   FNNFKDBGBDMXMHONLNBHTYHUZSDKTLRJNMSQNKNTYCZIDI...  \n",
       "7   EMMEJCAFACLWLGNMKMAGSXGTYRCJSKQIMLRPMJMSXBYHCH...  \n",
       "8   DLLDIBZEZBKVKFMLJLZFRWFSXQBIRJPHLKQOLILRWAXGBG...  \n",
       "9   CKKCHAYDYAJUJELKIKYEQVERWPAHQIOGKJPNKHKQVZWFAF...  \n",
       "10  BJJBGZXCXZITIDKJHJXDPUDQVOZGPHNFJIOMJGJPUYVEZE...  \n",
       "11  AIIAFYWBWYHSHCJIGIWCOTCPUNYFOGMEIHNLIFIOTXUDYD...  \n",
       "12  ZHHZEXVAVXGRGBIHFHVBNSBOTMXENFLDHGMKHEHNSWTCXC...  \n",
       "13  YGGYDWUZUWFQFAHGEGUAMRANSLWDMEKCGFLJGDGMRVSBWB...  \n",
       "14  XFFXCVTYTVEPEZGFDFTZLQZMRKVCLDJBFEKIFCFLQURAVA...  \n",
       "15  WEEWBUSXSUDODYFECESYKPYLQJUBKCIAEDJHEBEKPTQZUZ...  \n",
       "16  VDDVATRWRTCNCXEDBDRXJOXKPITAJBHZDCIGDADJOSPYTY...  \n",
       "17  UCCUZSQVQSBMBWDCACQWINWJOHSZIAGYCBHFCZCINROXSX...  \n",
       "18  TBBTYRPUPRALAVCBZBPVHMVINGRYHZFXBAGEBYBHMQNWRW...  \n",
       "19  SAASXQOTOQZKZUBAYAOUGLUHMFQXGYEWAZFDAXAGLPMVQV...  \n",
       "20  RZZRWPNSNPYJYTAZXZNTFKTGLEPWFXDVZYECZWZFKOLUPU...  \n",
       "21  QYYQVOMRMOXIXSZYWYMSEJSFKDOVEWCUYXDBYVYEJNKTOT...  \n",
       "22  PXXPUNLQLNWHWRYXVXLRDIREJCNUDVBTXWCAXUXDIMJSNS...  \n",
       "23  OWWOTMKPKMVGVQXWUWKQCHQDIBMTCUASWVBZWTWCHLIRMR...  \n",
       "24  NVVNSLJOJLUFUPWVTVJPBGPCHALSBTZRVUAYVSVBGKHQLQ...  \n",
       "25  MUUMRKINIKTETOVUSUIOAFOBGZKRASYQUTZXURUAFJGPKP...  "
      ]
     },
     "execution_count": 162,
     "metadata": {},
     "output_type": "execute_result"
    }
   ],
   "source": [
    "df"
   ]
  },
  {
   "cell_type": "code",
   "execution_count": 164,
   "id": "1959e2ff",
   "metadata": {},
   "outputs": [],
   "source": [
    "maybe = df[df.key == \"F\"]"
   ]
  },
  {
   "cell_type": "code",
   "execution_count": 168,
   "id": "9993d66e",
   "metadata": {},
   "outputs": [
    {
     "data": {
      "text/plain": [
       "'GOOGLECHCENYNIPOMOCIUZIVATELUMSKONTROLOUZDAJEJEJICHHESLOJESTESTALEBEZPECNEFIRMAPROTOPRIPRAVILASPECIALNIDOPLNEKDOPROHLIZECECHROMETENPOKAZDEKDYZZADATENEKDENAINTERNETUHESLOZKONTROLUJEZDANENIVDATABAZIKOMPROMITOVANYCHHESEL'"
      ]
     },
     "execution_count": 168,
     "metadata": {},
     "output_type": "execute_result"
    }
   ],
   "source": [
    "maybe.oa_text.values[0]"
   ]
  },
  {
   "cell_type": "markdown",
   "id": "0a46861a",
   "metadata": {},
   "source": [
    "##### Naimplementujte Obecnou substituční šifru. Klíčem bude libovolná permutace anglické abecedy bez mezery (ten bude vygenerován, nikoliv zadán)."
   ]
  },
  {
   "cell_type": "code",
   "execution_count": 208,
   "id": "a99c7c9d",
   "metadata": {},
   "outputs": [],
   "source": [
    "import numpy as np\n",
    "\n",
    "class GeneralSubstituion:\n",
    "    def __init__(self, alphabet):\n",
    "        self.alphabet = alphabet\n",
    "        self.generate_key(alphabet)\n",
    "    \n",
    "    def generate_key(self, alphabet):\n",
    "        print(\"Generate key!\")\n",
    "        permutation = list(np.random.permutation(list(alphabet)))\n",
    "        self.encode_table = {c: permutation[i] for i, c in enumerate(alphabet)}\n",
    "        self.decode_table = {v: k for k, v in self.encode_table.items()}\n",
    "\n",
    "    def verify_key(self, k):\n",
    "        if not k in self.alphabet:\n",
    "            print(\"Key is not allowed!\")\n",
    "            return False\n",
    "\n",
    "        return True\n",
    "\n",
    "    def verify_open_text(self, oa):\n",
    "        all_chars = set(oa)\n",
    "        alphabet = set(self.alphabet)\n",
    "        dif = all_chars.difference(alphabet)\n",
    "        is_ok = len(dif) == 0\n",
    "\n",
    "        if not is_ok:\n",
    "            exception_text = f\"Open text contains illegal char {dif}\"\n",
    "            assert Exception(exception_text)\n",
    "            return False\n",
    "        return True\n",
    "\n",
    "    def decode(self, text):\n",
    "        return \"\".join([self.decode_table[c] for c in text])\n",
    "\n",
    "    def encode(self, text):\n",
    "        if not (self.verify_open_text(text)):\n",
    "            print(\"Error\")\n",
    "            return\n",
    "        return \"\".join([self.encode_table[c] for c in text])"
   ]
  },
  {
   "cell_type": "code",
   "execution_count": 209,
   "id": "bbd293a3",
   "metadata": {},
   "outputs": [
    {
     "name": "stdout",
     "output_type": "stream",
     "text": [
      "Generate key!\n"
     ]
    }
   ],
   "source": [
    "general_sipher = GeneralSubstituion(aplhabet)"
   ]
  },
  {
   "cell_type": "code",
   "execution_count": 210,
   "id": "3ae5b847",
   "metadata": {},
   "outputs": [],
   "source": [
    "text = \"OPAVA\""
   ]
  },
  {
   "cell_type": "code",
   "execution_count": 211,
   "id": "1500f994",
   "metadata": {},
   "outputs": [],
   "source": [
    "sa_text = general_sipher.encode(text)"
   ]
  },
  {
   "cell_type": "code",
   "execution_count": 212,
   "id": "a4a938fa",
   "metadata": {},
   "outputs": [
    {
     "data": {
      "text/plain": [
       "'EPQUQ'"
      ]
     },
     "execution_count": 212,
     "metadata": {},
     "output_type": "execute_result"
    }
   ],
   "source": [
    "sa_text"
   ]
  },
  {
   "cell_type": "code",
   "execution_count": 213,
   "id": "770b6716",
   "metadata": {},
   "outputs": [],
   "source": [
    "oa_text = general_sipher.decode(sa_text)"
   ]
  },
  {
   "cell_type": "code",
   "execution_count": 214,
   "id": "5699f6e6",
   "metadata": {},
   "outputs": [
    {
     "data": {
      "text/plain": [
       "'OPAVA'"
      ]
     },
     "execution_count": 214,
     "metadata": {},
     "output_type": "execute_result"
    }
   ],
   "source": [
    "oa_text"
   ]
  }
 ],
 "metadata": {
  "kernelspec": {
   "display_name": "Python 3 (ipykernel)",
   "language": "python",
   "name": "python3"
  },
  "language_info": {
   "codemirror_mode": {
    "name": "ipython",
    "version": 3
   },
   "file_extension": ".py",
   "mimetype": "text/x-python",
   "name": "python",
   "nbconvert_exporter": "python",
   "pygments_lexer": "ipython3",
   "version": "3.8.6rc1"
  }
 },
 "nbformat": 4,
 "nbformat_minor": 5
}
