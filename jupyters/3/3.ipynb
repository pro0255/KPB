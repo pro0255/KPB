{
 "cells": [
  {
   "cell_type": "markdown",
   "metadata": {},
   "source": [
    "### 1. DES vs AES"
   ]
  },
  {
   "cell_type": "markdown",
   "metadata": {},
   "source": [
    "Něco hledat souvisí to s holčičkou na obrázku.."
   ]
  },
  {
   "cell_type": "markdown",
   "metadata": {},
   "source": [
    "AAAAAAAABBBBBBBBaaaaaaaabbbbbbbbAAAAAAAABBBBBBBB"
   ]
  },
  {
   "cell_type": "markdown",
   "metadata": {},
   "source": [
    "##### What effect does the increased block size of AES algorithm have on patterns in the ciphertext?"
   ]
  },
  {
   "cell_type": "markdown",
   "metadata": {},
   "source": [
    "###### DES"
   ]
  },
  {
   "cell_type": "markdown",
   "metadata": {},
   "source": [
    "2A CE A8 76 3F 88 B3 CB B9 FF 65 BC 3B A2 75 02 F9 0A BA 97 69 0C AF 10 04 5D CA C6 B3 DA 0A A2 2A CE A8 76 3F 88 B3 CB B9 FF 65 BC 3B A2 75 02"
   ]
  },
  {
   "cell_type": "markdown",
   "metadata": {},
   "source": [
    "U bloku AAAAABBBBB ... dochází k opakovanému šifrování ..."
   ]
  },
  {
   "cell_type": "markdown",
   "metadata": {},
   "source": [
    "###### AES"
   ]
  },
  {
   "cell_type": "markdown",
   "metadata": {},
   "source": [
    "3B 08 0E EB BF 18 96 D6 0B 7C 88 B6 FB 23 DD 9D 60 79 EB EB B7 DA 28 21 B4 06 16 CE A4 D7 4D 3B 55 49 10 CD 93 46 12 97 6E 87 AF 48 22 CA D7 AA 4B B1 58 B3 CD 54 25 F2 56 41 51 01 10 8D F3 3B"
   ]
  },
  {
   "cell_type": "markdown",
   "metadata": {},
   "source": [
    "Nedochází ke stejnému šifrování.."
   ]
  },
  {
   "cell_type": "markdown",
   "metadata": {},
   "source": [
    "### 2. DES ECB vs. DES CBC"
   ]
  },
  {
   "cell_type": "markdown",
   "metadata": {},
   "source": [
    "K = 11 22 33 44 55 66 77 88"
   ]
  },
  {
   "cell_type": "markdown",
   "metadata": {},
   "source": [
    "#### ECB"
   ]
  },
  {
   "cell_type": "markdown",
   "metadata": {},
   "source": [
    "98 4C 52 F6 E2 B4 45 80 C3 45 4F 51 ED 2C ED CB FC EA 02 F1 22 C8 56 9F 2F 77 37 2D FD 83 F0 FE C3 45 4F 51 ED 2C ED CB C5 10 5E 0D 7A 9D 95 3F"
   ]
  },
  {
   "cell_type": "markdown",
   "metadata": {},
   "source": [
    "Přehodit"
   ]
  },
  {
   "cell_type": "markdown",
   "metadata": {},
   "source": [
    "2F 77 37 2D FD 83 F0 FE C3 45 4F 51 ED 2C ED CB FC EA 02 F1 22 C8 56 9F 98 4C 52 F6 E2 B4 45 80 C3 45 4F 51 ED 2C ED CB C5 10 5E 0D 7A 9D 95 3F"
   ]
  },
  {
   "cell_type": "markdown",
   "metadata": {},
   "source": [
    "Viz 2d png"
   ]
  },
  {
   "cell_type": "markdown",
   "metadata": {},
   "source": [
    "#### CBC"
   ]
  },
  {
   "cell_type": "markdown",
   "metadata": {},
   "source": [
    "98 4C 52 F6 E2 B4 45 80 E5 E6 0B C4 CD 32 49 6D 82 43 B1 1F BB F1 64 F7 7F A7 6B 83 18 2D C9 04 A5 70 45 41 A4 A8 77 A6 1B 12 0E E7 38 8B 1B A4"
   ]
  },
  {
   "cell_type": "markdown",
   "metadata": {},
   "source": [
    "Přehodit"
   ]
  },
  {
   "cell_type": "markdown",
   "metadata": {},
   "source": [
    "7F A7 6B 83 18 2D C9 04 E5 E6 0B C4 CD 32 49 6D 82 43 B1 1F BB F1 64 F7 98 4C 52 F6 E2 B4 45 80 A5 70 45 41 A4 A8 77 A6 1B 12 0E E7 38 8B 1B A4"
   ]
  },
  {
   "cell_type": "markdown",
   "metadata": {},
   "source": [
    "Viz 2e png"
   ]
  },
  {
   "cell_type": "markdown",
   "metadata": {},
   "source": [
    "Decrypt the resulting ciphertext using the key from step b). What message do\n",
    "you obtain? Please explain."
   ]
  },
  {
   "cell_type": "markdown",
   "metadata": {},
   "source": [
    "Repeat steps b) -d) but now use DES in the CBC mode. Contrast the decrypted text\n",
    "with the one obtained when the ECB mode is used. Explain your observations."
   ]
  },
  {
   "cell_type": "markdown",
   "metadata": {},
   "source": [
    "### 3. DES ECB vs. DES CBC "
   ]
  },
  {
   "cell_type": "markdown",
   "metadata": {},
   "source": []
  },
  {
   "cell_type": "markdown",
   "metadata": {},
   "source": [
    "### 4. DES - Weak KEYS"
   ]
  },
  {
   "cell_type": "markdown",
   "metadata": {},
   "source": []
  },
  {
   "cell_type": "markdown",
   "metadata": {},
   "source": [
    "... přeskočit"
   ]
  },
  {
   "cell_type": "markdown",
   "metadata": {},
   "source": [
    "### 5. AES"
   ]
  },
  {
   "cell_type": "markdown",
   "metadata": {},
   "source": [
    "Use Rijndael Inspector to perform the following task: Encrypt the plaintext composed\n",
    "of all zeros using the key composed of all zeros. Record the result. "
   ]
  },
  {
   "cell_type": "markdown",
   "metadata": {},
   "source": [
    "Change one bit of the key. Calculate: \n",
    "\n",
    "- How many bytes changed in the ciphertext?\n",
    "- How many bits changed in the ciphertext?"
   ]
  },
  {
   "cell_type": "markdown",
   "metadata": {},
   "source": [
    "66 e9 4b d4 ef 8a 2c 3b 88 4c fa 59 ca 34 2b 2e"
   ]
  },
  {
   "cell_type": "markdown",
   "metadata": {},
   "source": [
    "dc 0e d8 5d f9 61 1a bb 72 49 cd d1 68 c5 46 7e"
   ]
  },
  {
   "cell_type": "code",
   "execution_count": 19,
   "metadata": {},
   "outputs": [],
   "source": [
    "a = \"66e94bd4ef8a2c3b884cfa59ca342b2e\"\n",
    "b = \"dc0ed85df9611abb7249cdd168c5467e\""
   ]
  },
  {
   "cell_type": "code",
   "execution_count": 20,
   "metadata": {},
   "outputs": [],
   "source": [
    "l = len(a)"
   ]
  },
  {
   "cell_type": "code",
   "execution_count": 21,
   "metadata": {},
   "outputs": [
    {
     "data": {
      "text/plain": [
       "32"
      ]
     },
     "execution_count": 21,
     "metadata": {},
     "output_type": "execute_result"
    }
   ],
   "source": [
    "l"
   ]
  },
  {
   "cell_type": "markdown",
   "metadata": {},
   "source": [
    "How many bytes changed in the ciphertext?"
   ]
  },
  {
   "cell_type": "code",
   "execution_count": 22,
   "metadata": {},
   "outputs": [],
   "source": [
    "counter = 0\n",
    "for i in range(l):\n",
    "    if a[i] != b[i]:\n",
    "        counter += 1"
   ]
  },
  {
   "cell_type": "code",
   "execution_count": 23,
   "metadata": {},
   "outputs": [
    {
     "data": {
      "text/plain": [
       "29"
      ]
     },
     "execution_count": 23,
     "metadata": {},
     "output_type": "execute_result"
    }
   ],
   "source": [
    "counter"
   ]
  },
  {
   "cell_type": "code",
   "execution_count": 26,
   "metadata": {},
   "outputs": [],
   "source": [
    "p1 = bin(int(\"A\", 16))\n",
    "p2 = bin(int(\"A\", 16))"
   ]
  },
  {
   "cell_type": "code",
   "execution_count": 27,
   "metadata": {},
   "outputs": [
    {
     "data": {
      "text/plain": [
       "'0b1010'"
      ]
     },
     "execution_count": 27,
     "metadata": {},
     "output_type": "execute_result"
    }
   ],
   "source": [
    "str(p1)\n",
    "str(p2)"
   ]
  },
  {
   "cell_type": "markdown",
   "metadata": {},
   "source": [
    "How many bits changed in the ciphertext?"
   ]
  },
  {
   "cell_type": "code",
   "execution_count": 36,
   "metadata": {},
   "outputs": [],
   "source": [
    "miss = 0\n",
    "counter = 0\n",
    "for i in range(l):\n",
    "    a_bin = str(bin(int(a[i], 16)))[2:].zfill(4)\n",
    "    b_bin = str(bin(int(b[i], 16)))[2:].zfill(4)\n",
    "\n",
    "    for j in range(len(a_bin)):\n",
    "        counter += 1\n",
    "        if a_bin[j] != b_bin[j]:\n",
    "            miss += 1"
   ]
  },
  {
   "cell_type": "code",
   "execution_count": 37,
   "metadata": {},
   "outputs": [
    {
     "data": {
      "text/plain": [
       "128"
      ]
     },
     "execution_count": 37,
     "metadata": {},
     "output_type": "execute_result"
    }
   ],
   "source": [
    "counter"
   ]
  },
  {
   "cell_type": "code",
   "execution_count": 38,
   "metadata": {},
   "outputs": [
    {
     "data": {
      "text/plain": [
       "62"
      ]
     },
     "execution_count": 38,
     "metadata": {},
     "output_type": "execute_result"
    }
   ],
   "source": [
    "miss"
   ]
  }
 ],
 "metadata": {
  "interpreter": {
   "hash": "25a6d3ff1ecdb9efcd44ba1d5748309e56079b2fd012764d6b8fda2a7552d68d"
  },
  "kernelspec": {
   "display_name": "Python 3.8.6rc1 ('venv': venv)",
   "language": "python",
   "name": "python3"
  },
  "language_info": {
   "codemirror_mode": {
    "name": "ipython",
    "version": 3
   },
   "file_extension": ".py",
   "mimetype": "text/x-python",
   "name": "python",
   "nbconvert_exporter": "python",
   "pygments_lexer": "ipython3",
   "version": "3.8.6rc1"
  },
  "orig_nbformat": 4
 },
 "nbformat": 4,
 "nbformat_minor": 2
}
