{
 "cells": [
  {
   "cell_type": "markdown",
   "metadata": {},
   "source": [
    "http://www.cs.vsb.cz/ochodkova/courses/kpb/Cviceni%206_2022.pdf"
   ]
  },
  {
   "cell_type": "markdown",
   "metadata": {},
   "source": [
    "### Jaké dělitele má číslo 24? Jaké dělitele má číslo 29? Jak určíte dělitelnost obecně?\n",
    "\n",
    "\n",
    "- 29 je dělitelem 29 a 1..\n",
    "- 24 je více dělitelů jak 29 a 1.."
   ]
  },
  {
   "cell_type": "markdown",
   "metadata": {},
   "source": [
    "### Jsou čísla 120 a 49 soudělná či nesoudělná? "
   ]
  },
  {
   "cell_type": "markdown",
   "metadata": {},
   "source": [
    "### Nalezněte NSD(270, 36) a NSN(270, 36) pomocí kanonického rozkladu\n",
    "\n",
    "Existuje několik algoritmů, které\n",
    "\n",
    "\n",
    "- Kanonicky rozklad - rozklad na prvočísla s mocninou\n",
    "\n",
    "- NSD = 1 pak jsou nesoudělná\n",
    "jinak soudělná"
   ]
  },
  {
   "cell_type": "markdown",
   "metadata": {},
   "source": [
    "### Nalezněte Eulerovo číslo pro n = 26, 29, 35, 49, 600, tj. nalezněte všechna m, 1≤m<n, která jsou nesoudělná s n.\n"
   ]
  },
  {
   "cell_type": "code",
   "execution_count": 3,
   "metadata": {},
   "outputs": [],
   "source": [
    "# algortimus\n",
    "\n",
    "# Eulerova funkce - fi\n",
    "\n",
    "# Pokud je to nasobeni prvocisla pak kazde z nich odectu..\n",
    "\n",
    "# p * q pokud vznike součinem, pak stačí odečíst 1 a je hotovo\n",
    "# (p - 1) * (q - 1)"
   ]
  },
  {
   "cell_type": "markdown",
   "metadata": {},
   "source": [
    "### Nalezněte aditivní opačný prvek ke všem prvkům v množině celých čísel modulo m, kde m = 8, 11. "
   ]
  },
  {
   "cell_type": "code",
   "execution_count": 6,
   "metadata": {},
   "outputs": [],
   "source": [
    "# a + (-a) = 0 mode n\n",
    "\n",
    "# Zn = {0, 1, ... n-1}\n",
    "\n",
    "# Z8 = {0, 1, ... 7}"
   ]
  },
  {
   "cell_type": "markdown",
   "metadata": {},
   "source": [
    "##### 8"
   ]
  },
  {
   "cell_type": "markdown",
   "metadata": {},
   "source": [
    "| a | -a |\n",
    "| :---        |    ---:   |\n",
    "| 1 | 7 |\n",
    "| 2 | 6 |\n",
    "| 3 | 5 |\n",
    "| 4 | 4 |\n",
    "| 5 | 3 |\n",
    "| 6 | 2 |\n",
    "| 7 | 1 |"
   ]
  },
  {
   "cell_type": "markdown",
   "metadata": {},
   "source": [
    "##### 11"
   ]
  },
  {
   "cell_type": "markdown",
   "metadata": {},
   "source": [
    "| a | -a |\n",
    "| :---        |    ---:   |\n",
    "| 0 | - |\n",
    "| 1 | 1 |\n",
    "| 2 | 6 |\n",
    "| 3 | 4 |\n",
    "| 4 | 3 |\n",
    "| 5 | 9 |\n",
    "| 6 | 2 |\n",
    "| 7 | .. |\n",
    "| 8 | .. |\n",
    "| 9 | .. |\n",
    "| 10 | 5 |"
   ]
  },
  {
   "cell_type": "markdown",
   "metadata": {},
   "source": [
    "- Eulerova funkce nám vrátí počet čísel nesoudělných s n..\n",
    "- Počet klíču affiní šifry fi(n) * n\n",
    "\n",
    "\n",
    "- a3 = (a1 a2) mod n\n",
    "- b3 = (a2 b1 + b2) mod n"
   ]
  },
  {
   "cell_type": "markdown",
   "metadata": {},
   "source": [
    "### Dvojité šifrování je možný přístup ke zvýšení bezpečnosti symetrických šifrovacích algoritmů, tj. algoritmus se aplikuje dvakrát se dvěma klíči takto: c=ek2(ek1(m)). Prozkoumejte dvojité šifrování pomocí Affine Cipher. Je bezpečnější nebo je jen tak bezpečné, jako je jednoduché šifrování pomocí tohoto algoritmu. Předpokládejme, že existují dvě afinní šifry (dále jen AC) takové, že ek1=(a1*m+b1) mod 26 a ek2=(a2*m+b2) mod 26.\n",
    "- a) Zjistěte, zda existuje jednoduchá AC ek3=(a3*m+b3) mod 26, jejíž výsledek je stejný jako kombinace c=ek2(ek1(m)).\n",
    "- b) Najděte hodnotu pro a3, b3, když a1=3, b1=5 a a2=11, b2=7. Pro ověření nejprve znak ‘K‘ zašifrujte pomocí ek1, výsledek pak zašifrujte pomocí ek2. Pak znak ‘K‘ zašifrujte pomocí ek3.\n",
    "- c) Zkuste popsat, co se stane, když útočník zaútočí pomocí útoku hrubou silou na dvojitý algoritmus (tj. c=ek2(ek1(m))). Zvětší se prostor klíčů (při tomto dvojitém šifrování)? Jaký je prostor klíčů pro Afinní šifru?"
   ]
  },
  {
   "cell_type": "markdown",
   "metadata": {},
   "source": []
  },
  {
   "cell_type": "markdown",
   "metadata": {},
   "source": [
    "### Následující relaci na množině A vyjádřete jako množinu uspořádaných dvojic:\n",
    "    - a) A = {2; 4; 5; 8; 45; 60}, R je relace „je dělitelem“, tj. xRy právě tehdy, když x je dělitelem y.\n"
   ]
  },
  {
   "cell_type": "markdown",
   "metadata": {},
   "source": [
    "### Určete vlastnosti následujících relací na množině A:\n",
    "    - a) A je množina lidí, R je relace „být rodičem“\n",
    "    - b) A je množina celých čísel a xRy právě tehdy, když |x-y| = 1\n",
    "    - c) A je množina přímek v rovině (2D), R je relací „býti kolmý“"
   ]
  },
  {
   "cell_type": "markdown",
   "metadata": {},
   "source": [
    "### Nalezněte rozklad množiny M, kde M je množina dnů v roce, na třídy ekvivalence."
   ]
  }
 ],
 "metadata": {
  "interpreter": {
   "hash": "25a6d3ff1ecdb9efcd44ba1d5748309e56079b2fd012764d6b8fda2a7552d68d"
  },
  "kernelspec": {
   "display_name": "Python 3.8.6rc1 ('venv': venv)",
   "language": "python",
   "name": "python3"
  },
  "language_info": {
   "codemirror_mode": {
    "name": "ipython",
    "version": 3
   },
   "file_extension": ".py",
   "mimetype": "text/x-python",
   "name": "python",
   "nbconvert_exporter": "python",
   "pygments_lexer": "ipython3",
   "version": "3.8.6"
  },
  "orig_nbformat": 4
 },
 "nbformat": 4,
 "nbformat_minor": 2
}
