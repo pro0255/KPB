{
 "cells": [
  {
   "cell_type": "markdown",
   "metadata": {},
   "source": [
    "# Cvičení 21.2.2022"
   ]
  },
  {
   "cell_type": "markdown",
   "metadata": {},
   "source": [
    "#### Naimplementujte Vigenerovu šifru\n",
    "\n",
    "- Pracujte s přípustnou abecedou obsahující jen znaky anglické abecedy bez mezery. \n",
    "- Implementujte jak šifrování, tak dešifrování. Pro kontrolu použijte klíč K=ZIMA a zašifrujte tento otevřený text: "
   ]
  },
  {
   "cell_type": "markdown",
   "metadata": {},
   "source": [
    "Fungování šifry, jde o to, že používáme stále stejný posun jako v Ceaserove šifře. Akorát s tím rozdílem, že se každý znak\n",
    "šifruje dle klíče, který se opakuje."
   ]
  },
  {
   "cell_type": "code",
   "execution_count": 17,
   "metadata": {},
   "outputs": [],
   "source": [
    "import numpy as np\n",
    "import pandas as pd"
   ]
  },
  {
   "cell_type": "code",
   "execution_count": 11,
   "metadata": {},
   "outputs": [],
   "source": [
    "def generate_alphabet(start, end):\n",
    "    alphabet = {}\n",
    "    for i in range(start, end+1):\n",
    "        c = chr(i)\n",
    "        alphabet[c] = i\n",
    "\n",
    "    return alphabet"
   ]
  },
  {
   "cell_type": "code",
   "execution_count": 21,
   "metadata": {},
   "outputs": [],
   "source": [
    "alphabet = generate_alphabet(65, 90)"
   ]
  },
  {
   "cell_type": "code",
   "execution_count": 44,
   "metadata": {},
   "outputs": [],
   "source": [
    "def generate_vigener_matrix(alphabet):\n",
    "    l = len(alphabet)\n",
    "    alphabet_c = list(alphabet.keys())\n",
    "    matrix = np.zeros(shape=(l, l), dtype=str)\n",
    "\n",
    "    for r_i in range(0, l):\n",
    "        for c_i in range(0, l):\n",
    "            matrix[r_i, c_i] = alphabet_c[(c_i + r_i) % l]  \n",
    "\n",
    "\n",
    "    return pd.DataFrame(matrix, index=alphabet, columns=alphabet)"
   ]
  },
  {
   "cell_type": "code",
   "execution_count": 45,
   "metadata": {},
   "outputs": [],
   "source": [
    "vigener_matrix = generate_vigener_matrix(alphabet)"
   ]
  },
  {
   "cell_type": "code",
   "execution_count": 100,
   "metadata": {},
   "outputs": [],
   "source": [
    "current_index = list(vigener_matrix.loc[:, 'C'].values).index('C')"
   ]
  },
  {
   "cell_type": "code",
   "execution_count": 101,
   "metadata": {},
   "outputs": [
    {
     "data": {
      "text/plain": [
       "'A'"
      ]
     },
     "execution_count": 101,
     "metadata": {},
     "output_type": "execute_result"
    }
   ],
   "source": [
    "vigener_matrix.iloc[current_index, 0]"
   ]
  },
  {
   "cell_type": "code",
   "execution_count": 102,
   "metadata": {},
   "outputs": [],
   "source": [
    "class VigenerCipher:\n",
    "    def __init__(self, alphabet):\n",
    "        self.alphabet = alphabet\n",
    "        self.vigener_matrix = generate_vigener_matrix(alphabet)\n",
    "\n",
    "    def encode(self, oa_text, key):\n",
    "        sa_text = \"\"\n",
    "        size_key = len(key)\n",
    "        chars_key = list(key)\n",
    "\n",
    "        for index_oa, char_oa in enumerate(oa_text):\n",
    "            current_key_index = index_oa % size_key  \n",
    "            current_key_char = chars_key[current_key_index]\n",
    "\n",
    "            sa_text += self.vigener_matrix.loc[char_oa, current_key_char]\n",
    "\n",
    "\n",
    "        return sa_text\n",
    "    \n",
    "    def decode(self, sa_text, key):\n",
    "        oa_text = \"\"\n",
    "        size_key = len(key)\n",
    "        chars_key = list(key)\n",
    "\n",
    "        for index_sa, char_sa in enumerate(sa_text):\n",
    "            current_key_index = index_sa % size_key  \n",
    "            current_key_char = chars_key[current_key_index]\n",
    "\n",
    "            current_index = list(vigener_matrix.loc[:, current_key_char].values).index(char_sa)\n",
    "            current_oa_char = vigener_matrix.iloc[current_index, 0]\n",
    "\n",
    "            oa_text += current_oa_char\n",
    "\n",
    "\n",
    "        return oa_text"
   ]
  },
  {
   "cell_type": "code",
   "execution_count": 103,
   "metadata": {},
   "outputs": [],
   "source": [
    "v_c = VigenerCipher(alphabet)"
   ]
  },
  {
   "cell_type": "code",
   "execution_count": 104,
   "metadata": {},
   "outputs": [],
   "source": [
    "oa_vigener_text = \"SLUNECNEATEPLEPOCASICTVRTKEMPROZATIMKONCIVNASLEDUJICICHDVOUDNECHSEZATAHNEVETSINUUZEMIZASAHNEDESTNAHORACHANASEVEROVYCHODEVEVSECHPOLOHACHSNIHOVIKENDUBUDEPOLOJASNOTEPLOTYVNOCIKLESNOUPODNULUPRESDENBUDEMAXIMALNESESTSTUPNU\""
   ]
  },
  {
   "cell_type": "code",
   "execution_count": 105,
   "metadata": {},
   "outputs": [],
   "source": [
    "sa_vigener_text = \"RTGNDKZEZBQPKMBOBIEIBBHRSSQMOZAZZBUMJWZCHDZARTQDTRUCHKTDUWGDMMOHRMLASITNDDQTRQZUTHQMHHMSZPZECMETMITOQIOHZVMSDDQRNDKCGWPEUMHSDKTPNTAHZKTSMQTOUQWEMLGBTLQPNTAJZAZOSMBLNBKVMWOIJTQSMWGPNLZUKCBRDAPEMJGDDUMXHUMLMMEERBETTXZU\""
   ]
  },
  {
   "cell_type": "code",
   "execution_count": 106,
   "metadata": {},
   "outputs": [],
   "source": [
    "specified_key = \"ZIMA\""
   ]
  },
  {
   "cell_type": "markdown",
   "metadata": {},
   "source": [
    "#### Is ok encoding?"
   ]
  },
  {
   "cell_type": "code",
   "execution_count": 112,
   "metadata": {},
   "outputs": [],
   "source": [
    "sa_text = v_c.encode(oa_vigener_text, specified_key)"
   ]
  },
  {
   "cell_type": "code",
   "execution_count": 113,
   "metadata": {},
   "outputs": [
    {
     "data": {
      "text/plain": [
       "'RTGNDKZEZBQPKMBOBIEIBBHRSSQMOZAZZBUMJWZCHDZARTQDTRUCHKTDUWGDMMOHRMLASITNDDQTRQZUTHQMHHMSZPZECMETMITOQIOHZVMSDDQRNDKCGWPEUMHSDKTPNTAHZKTSMQTOUQWEMLGBTLQPNTAJZAZOSMBLNBKVMWOIJTQSMWGPNLZUKCBRDAPEMJGDDUMXHUMLMMEERBETTXZU'"
      ]
     },
     "execution_count": 113,
     "metadata": {},
     "output_type": "execute_result"
    }
   ],
   "source": [
    "sa_text"
   ]
  },
  {
   "cell_type": "code",
   "execution_count": 114,
   "metadata": {},
   "outputs": [
    {
     "data": {
      "text/plain": [
       "True"
      ]
     },
     "execution_count": 114,
     "metadata": {},
     "output_type": "execute_result"
    }
   ],
   "source": [
    "sa_text == sa_vigener_text"
   ]
  },
  {
   "cell_type": "markdown",
   "metadata": {},
   "source": [
    "#### Is ok decoding?"
   ]
  },
  {
   "cell_type": "code",
   "execution_count": 115,
   "metadata": {},
   "outputs": [],
   "source": [
    "oa_text = v_c.decode(sa_vigener_text, specified_key)"
   ]
  },
  {
   "cell_type": "code",
   "execution_count": 116,
   "metadata": {},
   "outputs": [
    {
     "data": {
      "text/plain": [
       "'SLUNECNEATEPLEPOCASICTVRTKEMPROZATIMKONCIVNASLEDUJICICHDVOUDNECHSEZATAHNEVETSINUUZEMIZASAHNEDESTNAHORACHANASEVEROVYCHODEVEVSECHPOLOHACHSNIHOVIKENDUBUDEPOLOJASNOTEPLOTYVNOCIKLESNOUPODNULUPRESDENBUDEMAXIMALNESESTSTUPNU'"
      ]
     },
     "execution_count": 116,
     "metadata": {},
     "output_type": "execute_result"
    }
   ],
   "source": [
    "oa_text"
   ]
  },
  {
   "cell_type": "code",
   "execution_count": 117,
   "metadata": {},
   "outputs": [
    {
     "data": {
      "text/plain": [
       "True"
      ]
     },
     "execution_count": 117,
     "metadata": {},
     "output_type": "execute_result"
    }
   ],
   "source": [
    "oa_text == oa_vigener_text"
   ]
  },
  {
   "cell_type": "markdown",
   "metadata": {},
   "source": [
    "##### Naimplementujte transpoziční šifru:\n",
    "\n",
    "- a) Columnar Transposition (viz 8. snímek z přednášky)\n",
    "- b) Row Transposition (viz 9. snímek z přednášky)\n",
    "\n",
    "Pracujte s přípustnou abecedou obsahující jen znaky anglické abecedy bez mezery. Implementujte jak\n",
    "šifrování, tak dešifrování. Pro kontrolu použijte klíč K=PROJEV a zašifrujte tento otevřený text: \n"
   ]
  },
  {
   "cell_type": "code",
   "execution_count": 255,
   "metadata": {},
   "outputs": [],
   "source": [
    "class TranspositionCipher:\n",
    "    def __init__(self, row=True):\n",
    "        self.row = row\n",
    "\n",
    "    def generate_key_from_word(self, word):\n",
    "        chars = list(word)\n",
    "        chars.sort()\n",
    "        counter = {}\n",
    "\n",
    "        for i_c, c in enumerate(chars):\n",
    "            if c in counter:\n",
    "                current_value = counter[c]\n",
    "                new_value = (i_c+1, current_value[1] + 1)\n",
    "                counter[c] = new_value \n",
    "            else:\n",
    "                counter[c] = (i_c + 1, 1)\n",
    "\n",
    "        key = \"\"\n",
    "\n",
    "        for char in word:\n",
    "            current_value = counter[char]\n",
    "            current_index = current_value[0]\n",
    "            how_many =  current_value[1]\n",
    "            key += str(current_index - (how_many - 1))\n",
    "            updated_value = (current_value[0], current_value[1] - 1)\n",
    "            counter[char] = updated_value \n",
    "\n",
    "        return key\n",
    "\n",
    "    def run(self, text, key):\n",
    "        size_key = len(key)\n",
    "        blocks = [text[i:i+size_key] for i in range(0, len(text), size_key)]\n",
    "        blocks[-1] = blocks[-1] + 'X' * (size_key - len(blocks[-1]))\n",
    "        indicies = [int(c) for c in key]\n",
    "        matrix = np.zeros(shape=(len(blocks), size_key), dtype=str)\n",
    "        for r_i in range(matrix.shape[0]):\n",
    "            for c_i in range(matrix.shape[1]):\n",
    "                matrix[r_i, c_i] = blocks[r_i][indicies[c_i]-1] \n",
    "        if self.row:\n",
    "            return \"\".join(matrix.flatten())\n",
    "        else:\n",
    "            return \"\".join(matrix.flatten('F'))\n",
    "\n",
    "    def run_with_gen(self, text, word_key):\n",
    "        number_key = self.generate_key_from_word(word_key)\n",
    "        return self.run(text, number_key)\n",
    "\n",
    "    def encode(self, oa_text, word_key):\n",
    "        return self.run_with_gen(oa_text, word_key)\n",
    "\n",
    "    def decode(self, sa_text, word_key):\n",
    "        return self.run_with_gen(oa_text, word_key)"
   ]
  },
  {
   "cell_type": "markdown",
   "metadata": {},
   "source": [
    "#### Pracujte s přípustnou abecedou obsahující jen znaky anglické abecedy bez mezery. Implementujte jak šifrování, tak dešifrování. Pro kontrolu použijte klíč K=PROJEV a zašifrujte tento otevřený text: "
   ]
  },
  {
   "cell_type": "code",
   "execution_count": 256,
   "metadata": {},
   "outputs": [],
   "source": [
    "specified_key = \"PROJEV\""
   ]
  },
  {
   "cell_type": "code",
   "execution_count": 257,
   "metadata": {},
   "outputs": [],
   "source": [
    "oa_trans_text = \"RUSKYPREZIDENTVLADIMIRPUTINPRONESLVECTVRTEKTRADICNIPROJEVOSTAVUFEDERACEVENOVALSETOMUZERUSKOMUSIPOKRACOVATVTRANSFORMACIANEMUZESESPOKOJITSESOUCASNYMSTAVEMZMINILSTOUPAJICIPOCETCHUDYCHIZAOSTALOUINFRASTRUKTURUNUTNOUPODPORUDUCHODCUMIMLADYMRODINYMABYSEZVRYTILNEPRIZNIVYDEMOGRAFICKYVYVOJ\""
   ]
  },
  {
   "cell_type": "code",
   "execution_count": 258,
   "metadata": {},
   "outputs": [],
   "source": [
    "sa_columnar_trans = \"YDAPRVTDRSEEAMSICTOAEKESAIOCTCSITROOHIMYEIIDAVKILRPLRAPOFCVOUSAVFIZOSATMTIEYOUSUNPCMYNSTRYRYSZVINSVRIVUAOTRURTSCUPTCSZSJCDAOATTDUUDIYYPVGKJRRNITNCKCJAEESZOOVAMEEJOYEIPPHIAFUNPUDLOAVNNMIVUETMIETTNEVRNEEMKANAMSIUMMLAOUZLRKUODCADBREIOCOPEDUOEEIOTDVLUKPORRNSOSNVNUICHTNRUUROMRMZLZEFY\""
   ]
  },
  {
   "cell_type": "code",
   "execution_count": 259,
   "metadata": {},
   "outputs": [],
   "source": [
    "sa_columnar_trans_2 = \"KILRPLRAPOFCVOUSAVFIZOSATMTIEYOUSUNPCMYNSTRYRYYDAPRVTDRSEEAMSICTOAEKESAIOCTCSITROOHIMYEIIDAVSZVINSVRIVUAOTRURTSCUPTCSZSJCDAOATTDUUDIYYPVGKJUETMIETTNEVRNEEMKANAMSIUMMLAOUZLRKUODCADBREIOCORRNITNCKCJAEESZOOVAMEEJOYEIPPHIAFUNPUDLOAVNNMIVPEDUOEEIOTDVLUKPORRNSOSNVNUICHTNRUUROMRMZLZEFY\""
   ]
  },
  {
   "cell_type": "code",
   "execution_count": 260,
   "metadata": {},
   "outputs": [],
   "source": [
    "sa_row_trans = \"YKSRUPDIZREEALVNTDPRIIMURPNTIOVLSNEETRVCTEDARKTIRPICNOSOVJETEFUAVDECAERVAVOENLMOTSEUSURZEKISUOMPCAROKOTVTVAROFSANRAICMANEZUEMSKOPESOESTJISSACOUNATSYMVIMZEMNOTSILUCIJPAITECPOCCYDHUHSOAIZTIUOALNTSAFRRRUTUKUONTNUUOPDPORHCUUDOIMUDCMMYDLARYNIODMESYABZITYVRLIRPNEZDYVNIEARGMOFVYKICYJVO\""
   ]
  },
  {
   "cell_type": "markdown",
   "metadata": {},
   "source": [
    "#### Měli byste obdržet šifrový text"
   ]
  },
  {
   "cell_type": "markdown",
   "metadata": {},
   "source": [
    "###### a)"
   ]
  },
  {
   "cell_type": "code",
   "execution_count": 261,
   "metadata": {},
   "outputs": [],
   "source": [
    "transposition_cipher = TranspositionCipher(False)"
   ]
  },
  {
   "cell_type": "code",
   "execution_count": 262,
   "metadata": {},
   "outputs": [],
   "source": [
    "sa_text = transposition_cipher.encode(oa_trans_text, specified_key)"
   ]
  },
  {
   "cell_type": "code",
   "execution_count": 263,
   "metadata": {},
   "outputs": [
    {
     "data": {
      "text/plain": [
       "'KILRPLRAPOFCVOUSAVFIZOSATMTIEYOUSUNPCMYNSTRYRYXYDAPRVTDRSEEAMSICTOAEKESAIOCTCSITROOHIMYEIIDAVXSZVINSVRIVUAOTRURTSCUPTCSZSJCDAOATTDUUDIYYPVGKJUETMIETTNEVRNEEMKANAMSIUMMLAOUZLRKUODCADBREIOCORRNITNCKCJAEESZOOVAMEEJOYEIPPHIAFUNPUDLOAVNNMIVPEDUOEEIOTDVLUKPORRNSOSNVNUICHTNRUUROMRMZLZEFYX'"
      ]
     },
     "execution_count": 263,
     "metadata": {},
     "output_type": "execute_result"
    }
   ],
   "source": [
    "sa_text"
   ]
  },
  {
   "cell_type": "code",
   "execution_count": 264,
   "metadata": {},
   "outputs": [
    {
     "data": {
      "text/plain": [
       "False"
      ]
     },
     "execution_count": 264,
     "metadata": {},
     "output_type": "execute_result"
    }
   ],
   "source": [
    "sa_text == sa_columnar_trans"
   ]
  },
  {
   "cell_type": "code",
   "execution_count": 265,
   "metadata": {},
   "outputs": [
    {
     "data": {
      "text/plain": [
       "False"
      ]
     },
     "execution_count": 265,
     "metadata": {},
     "output_type": "execute_result"
    }
   ],
   "source": [
    "#Chyba v X ?\n",
    "\n",
    "sa_text == sa_columnar_trans_2"
   ]
  },
  {
   "cell_type": "markdown",
   "metadata": {},
   "source": [
    "###### b)"
   ]
  },
  {
   "cell_type": "code",
   "execution_count": 266,
   "metadata": {},
   "outputs": [],
   "source": [
    "transposition_cipher = TranspositionCipher(True)"
   ]
  },
  {
   "cell_type": "code",
   "execution_count": 267,
   "metadata": {},
   "outputs": [],
   "source": [
    "sa_text = transposition_cipher.encode(oa_trans_text, specified_key)"
   ]
  },
  {
   "cell_type": "code",
   "execution_count": 268,
   "metadata": {},
   "outputs": [
    {
     "data": {
      "text/plain": [
       "False"
      ]
     },
     "execution_count": 268,
     "metadata": {},
     "output_type": "execute_result"
    }
   ],
   "source": [
    "sa_text == sa_row_trans"
   ]
  },
  {
   "cell_type": "code",
   "execution_count": 269,
   "metadata": {},
   "outputs": [],
   "source": [
    "# Stejny jako priklad druhy"
   ]
  }
 ],
 "metadata": {
  "interpreter": {
   "hash": "25a6d3ff1ecdb9efcd44ba1d5748309e56079b2fd012764d6b8fda2a7552d68d"
  },
  "kernelspec": {
   "display_name": "Python 3.8.6rc1 ('venv': venv)",
   "language": "python",
   "name": "python3"
  },
  "language_info": {
   "codemirror_mode": {
    "name": "ipython",
    "version": 3
   },
   "file_extension": ".py",
   "mimetype": "text/x-python",
   "name": "python",
   "nbconvert_exporter": "python",
   "pygments_lexer": "ipython3",
   "version": "3.8.6rc1"
  },
  "orig_nbformat": 4
 },
 "nbformat": 4,
 "nbformat_minor": 2
}
